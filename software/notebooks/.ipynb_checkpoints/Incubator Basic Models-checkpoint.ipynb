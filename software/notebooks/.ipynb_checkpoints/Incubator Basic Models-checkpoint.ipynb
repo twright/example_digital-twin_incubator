{
 "cells": [
  {
   "cell_type": "code",
   "execution_count": 1,
   "metadata": {},
   "outputs": [],
   "source": [
    "import os\n",
    "os.chdir(\"../\")"
   ]
  },
  {
   "cell_type": "markdown",
   "metadata": {},
   "source": [
    "# Incubator Case Study"
   ]
  },
  {
   "cell_type": "code",
   "execution_count": 2,
   "metadata": {},
   "outputs": [],
   "source": [
    "from lbuc import *\n",
    "\n",
    "from sage.symbolic.function_factory import function_factory\n",
    "\n",
    "from verified_twin.base import *\n",
    "from verified_twin.parametric_models import IntervalParametricModel\n",
    "from verified_twin.incubator_models import *"
   ]
  },
  {
   "cell_type": "markdown",
   "metadata": {},
   "source": [
    "## 2 Parameter Model\n",
    "\n",
    "$$\n",
    "    \\frac{\\mathrm d T_{\\mathrm{system}}}{\\mathrm d t} =\n",
    "    \\frac{1}{C_{\\mathrm{system}}}\\bigl(\n",
    "        V I - G_{\\mathrm{box}} \\bigl(T_{\\mathrm{system}} - T_{\\mathrm{room}}\\bigr)\n",
    "    \\bigr)\n",
    "$$\n",
    "\n",
    "$$\n",
    "    \\frac{\\mathrm d T_{S}}{\\mathrm d t} =\n",
    "    \\frac{1}{C_S}\\bigl(\n",
    "        V I - G_B \\bigl(T_S - T_R\\bigr)\n",
    "    \\bigr)\n",
    "$$"
   ]
  },
  {
   "cell_type": "code",
   "execution_count": 3,
   "metadata": {},
   "outputs": [
    {
     "data": {
      "text/html": [
       "<div class=\"notruncate\">\n",
       "<table  class=\"table_form\">\n",
       "<tbody>\n",
       "<tr class =\"row-a\">\n",
       "<td style=\"text-align:left\">\\(\\frac{\\partial}{\\partial t}T_{S}\\left(t\\right) = \\frac{G_{B} {\\left(T_{R} - T_{S}\\left(t\\right)\\right)} + I V}{C_{S}}\\)</td>\n",
       "</tr>\n",
       "</tbody>\n",
       "</table>\n",
       "</div>"
      ],
      "text/plain": [
       "  diff(T_S(t), t) == (G_B*(T_R - T_S(t)) + I*V)/C_S"
      ]
     },
     "execution_count": 3,
     "metadata": {},
     "output_type": "execute_result"
    }
   ],
   "source": [
    "twopincubator.ode_table"
   ]
  },
  {
   "cell_type": "code",
   "execution_count": 4,
   "metadata": {},
   "outputs": [],
   "source": [
    "r = twopincubator.reach(100)"
   ]
  },
  {
   "cell_type": "code",
   "execution_count": 5,
   "metadata": {},
   "outputs": [
    {
     "name": "stdout",
     "output_type": "stream",
     "text": [
      "plot_points = 10000\n"
     ]
    },
    {
     "data": {
      "image/png": "[encoded data removed]",
      "text/plain": [
       "Graphics object consisting of 3 graphics primitives"
      ]
     },
     "execution_count": 5,
     "metadata": {},
     "output_type": "execute_result"
    }
   ],
   "source": [
    "r.sage_plot(T_S, color=\"blue\", fillcolor='blue', linestyle=\"--\", fill={0: [1]})"
   ]
  },
  {
   "cell_type": "code",
   "execution_count": 6,
   "metadata": {},
   "outputs": [
    {
     "name": "stdout",
     "output_type": "stream",
     "text": [
      "Computed 241 flowpipes in 0.02773210301529616 sec\n",
      "In G.signal\n",
      "mask for G = None\n"
     ]
    }
   ],
   "source": [
    "G(RIF(\"[0, 4]\"), Atomic(T_S > RIF(\"19.98\"))).signal_for_system(twopincubator, 20, symbolic_composition=True).plot().save(\"\")"
   ]
  },
  {
   "cell_type": "markdown",
   "metadata": {},
   "source": [
    "## 4 Parameter Model"
   ]
  },
  {
   "cell_type": "markdown",
   "metadata": {},
   "source": [
    "\\begin{alignat*}{4}\n",
    "    \\frac{\\mathrm d T_{\\mathrm{heater}}}{\\mathrm d t} & =\n",
    "    \\frac{1}{C_{\\mathrm{heater}}}&&\\bigl(\n",
    "        V I - G_{\\mathrm{heater}} \\bigl(T_{\\mathrm{heater}} - T_{\\mathrm{box}}\\bigr)\n",
    "    \\bigr) \\\\\n",
    "    \\frac{\\mathrm d T_{\\mathrm{bair}}}{\\mathrm d t} & =\n",
    "    \\frac{1}{C_{\\mathrm{air}}}&&\\bigl(\n",
    "        G_{\\mathrm{heater}} \\bigl(T_{\\mathrm{heater}} - T_{\\mathrm{bair}}\\bigr)\n",
    "        - G_{\\mathrm{box}}\\bigl(T_{\\mathrm{bair}} - T_{\\mathrm{room}}\\bigr)\n",
    "    \\bigr)\n",
    "\\end{alignat*}\n",
    "\n",
    "or\n",
    "\n",
    "\\begin{alignat*}{4}\n",
    "    \\frac{\\mathrm d T_H}{\\mathrm d t} & =\n",
    "    \\frac{1}{C_H}&&\\bigl(\n",
    "        V I - G_H \\bigl(T_H - T_A\\bigr)\n",
    "    \\bigr) \\\\\n",
    "    \\frac{\\mathrm d T_A}{\\mathrm d t} & =\n",
    "    \\frac{1}{C_A}&&\\bigl(\n",
    "        G_H \\bigl(T_H - T_A\\bigr)\n",
    "        - G_B\\bigl(T_A - T_R\\bigr)\n",
    "    \\bigr)\n",
    "\\end{alignat*}"
   ]
  },
  {
   "cell_type": "code",
   "execution_count": 7,
   "metadata": {},
   "outputs": [
    {
     "data": {
      "text/html": [
       "<div class=\"notruncate\">\n",
       "<table  class=\"table_form\">\n",
       "<tbody>\n",
       "<tr class =\"row-a\">\n",
       "<td style=\"text-align:left\">\\(\\frac{\\partial}{\\partial t}T_{H}\\left(t\\right) = \\frac{I V + G_{H} {\\left(T_{A}\\left(t\\right) - T_{H}\\left(t\\right)\\right)}}{C_{H}}\\)</td>\n",
       "</tr>\n",
       "<tr class =\"row-b\">\n",
       "<td style=\"text-align:left\">\\(\\frac{\\partial}{\\partial t}T_{A}\\left(t\\right) = \\frac{G_{B} {\\left(T_{R} - T_{A}\\left(t\\right)\\right)} - G_{H} {\\left(T_{A}\\left(t\\right) - T_{H}\\left(t\\right)\\right)}}{C_{A}}\\)</td>\n",
       "</tr>\n",
       "</tbody>\n",
       "</table>\n",
       "</div>"
      ],
      "text/plain": [
       "  diff(T_H(t), t) == (I*V + G_H*(T_A(t) - T_H(t)))/C_H\n",
       "  diff(T_A(t), t) == (G_B*(T_R - T_A(t)) - G_H*(T_A(t) - T_H(t)))/C_A"
      ]
     },
     "execution_count": 7,
     "metadata": {},
     "output_type": "execute_result"
    }
   ],
   "source": [
    "fourpincubator.ode_table"
   ]
  },
  {
   "cell_type": "code",
   "execution_count": 8,
   "metadata": {},
   "outputs": [],
   "source": [
    "r = fourpincubator.reach(100)"
   ]
  },
  {
   "cell_type": "code",
   "execution_count": 9,
   "metadata": {},
   "outputs": [
    {
     "name": "stdout",
     "output_type": "stream",
     "text": [
      "plot_points = 10000\n",
      "plot_points = 10000\n"
     ]
    },
    {
     "data": {
      "image/png": "[encoded data removed]",
      "text/plain": [
       "Graphics object consisting of 6 graphics primitives"
      ]
     },
     "execution_count": 9,
     "metadata": {},
     "output_type": "execute_result"
    }
   ],
   "source": [
    "r.sage_plot(T_A, color='blue', fillcolor='blue', linestyle=\"--\", fill={0: [1]}) + r.sage_plot(T_H, color='green', fillcolor='green', linestyle=\"--\", fill={0: [1]})"
   ]
  },
  {
   "cell_type": "code",
   "execution_count": 10,
   "metadata": {},
   "outputs": [
    {
     "data": {
      "image/png": "[encoded data removed]",
      "text/plain": [
       "<wand.image.Image: e8e257f 'PS' (720x504)>"
      ]
     },
     "execution_count": 10,
     "metadata": {},
     "output_type": "execute_result"
    }
   ],
   "source": [
    "r.wplot(\"T_H\", \"T_A\")"
   ]
  },
  {
   "cell_type": "code",
   "execution_count": 11,
   "metadata": {},
   "outputs": [
    {
     "name": "stdout",
     "output_type": "stream",
     "text": [
      "Computed 1041 flowpipes in 0.3800061130168615 sec\n",
      "In G.signal\n",
      "mask for G = None\n"
     ]
    },
    {
     "data": {
      "image/png": "[encoded data removed]",
      "text/plain": [
       "Graphics object consisting of 2 graphics primitives"
      ]
     },
     "execution_count": 11,
     "metadata": {},
     "output_type": "execute_result"
    }
   ],
   "source": [
    "G(RIF(\"[0, 4]\"), Atomic(T_H > T_A + RIF(\"0.05\") )).signal_for_system(fourpincubator, 100).plot()"
   ]
  },
  {
   "cell_type": "markdown",
   "metadata": {},
   "source": [
    "### Reproducing data"
   ]
  },
  {
   "cell_type": "code",
   "execution_count": 12,
   "metadata": {},
   "outputs": [],
   "source": [
    "plot_params = {\n",
    "    'adaptive_tolerance': 1,\n",
    "    'step': 1,\n",
    "}"
   ]
  },
  {
   "cell_type": "code",
   "execution_count": 13,
   "metadata": {},
   "outputs": [],
   "source": [
    "system2a = IntervalParametricModel(\n",
    "    \"T_H,T_A\",\n",
    "    [RIF(\"43.228486\"), RIF(\"30.993974\")],\n",
    "    [\n",
    "        (1/C_H)*(V*I - G_H*(T_H - T_A)),\n",
    "        (1/C_A)*(G_H*(T_H - T_A) - G_B*(T_A - T_R)),\n",
    "    ],\n",
    "    {\n",
    "        \"C_H\": RIF(\"243.45802367\"),\n",
    "        \"C_A\": RIF(\"68.20829072\"),\n",
    "        \"V\":   RIF(\"12.00\"),\n",
    "        \"I\":   RIF(\"10.45\"),\n",
    "        \"T_R\": RIF(\"21.25\"),\n",
    "        \"G_H\": RIF(\"0.87095429\"),\n",
    "        \"G_B\": RIF(\"0.73572788\"),\n",
    "    }\n",
    ")"
   ]
  },
  {
   "cell_type": "code",
   "execution_count": 14,
   "metadata": {},
   "outputs": [],
   "source": [
    "ra = system2a.reach(18,integration_method=IntegrationMethod.LOW_DEGREE)"
   ]
  },
  {
   "cell_type": "code",
   "execution_count": 15,
   "metadata": {},
   "outputs": [
    {
     "data": {
      "text/plain": [
       "[51.4883000?, 32.578768?]"
      ]
     },
     "execution_count": 15,
     "metadata": {},
     "output_type": "execute_result"
    }
   ],
   "source": [
    "ra(RIF(\"18\"))"
   ]
  },
  {
   "cell_type": "code",
   "execution_count": 16,
   "metadata": {},
   "outputs": [
    {
     "name": "stdout",
     "output_type": "stream",
     "text": [
      "plot_points = 18\n",
      "plot_points = 18\n"
     ]
    },
    {
     "data": {
      "image/png": "[encoded data removed]",
      "text/plain": [
       "Graphics object consisting of 6 graphics primitives"
      ]
     },
     "execution_count": 16,
     "metadata": {},
     "output_type": "execute_result"
    }
   ],
   "source": [
    "ra.sage_plot(T_A, color='blue', fillcolor='blue', linestyle=\"--\", fill={0: [1]}, **plot_params) + ra.sage_plot(T_H, color='green', fillcolor='green', linestyle=\"--\", fill={0: [1]}, **plot_params)"
   ]
  },
  {
   "cell_type": "markdown",
   "metadata": {},
   "source": [
    "No V*I term with heater off:"
   ]
  },
  {
   "cell_type": "code",
   "execution_count": 17,
   "metadata": {},
   "outputs": [
    {
     "data": {
      "text/html": [
       "<div class=\"notruncate\">\n",
       "<table  class=\"table_form\">\n",
       "<tbody>\n",
       "<tr class =\"row-a\">\n",
       "<td style=\"text-align:left\">\\(\\frac{\\partial}{\\partial t}T_{H}\\left(t\\right) = \\frac{G_{H} {\\left(T_{A}\\left(t\\right) - T_{H}\\left(t\\right)\\right)}}{C_{H}}\\)</td>\n",
       "</tr>\n",
       "<tr class =\"row-b\">\n",
       "<td style=\"text-align:left\">\\(\\frac{\\partial}{\\partial t}T_{A}\\left(t\\right) = \\frac{G_{B} {\\left(T_{R} - T_{A}\\left(t\\right)\\right)} - G_{H} {\\left(T_{A}\\left(t\\right) - T_{H}\\left(t\\right)\\right)}}{C_{A}}\\)</td>\n",
       "</tr>\n",
       "</tbody>\n",
       "</table>\n",
       "</div>"
      ],
      "text/plain": [
       "  diff(T_H(t), t) == G_H*(T_A(t) - T_H(t))/C_H\n",
       "  diff(T_A(t), t) == (G_B*(T_R - T_A(t)) - G_H*(T_A(t) - T_H(t)))/C_A"
      ]
     },
     "execution_count": 17,
     "metadata": {},
     "output_type": "execute_result"
    }
   ],
   "source": [
    "system2b = IntervalParametricModel(\n",
    "    \"T_H,T_A\",\n",
    "    [RIF(\"52.62302203432049\"), RIF(\"32.949245152726036\")],\n",
    "    [\n",
    "        (1/C_H)*( - G_H*(T_H - T_A)),\n",
    "        (1/C_A)*(G_H*(T_H - T_A) - G_B*(T_A - T_R)),\n",
    "    ],\n",
    "    {\n",
    "        \"C_H\": RIF(\"243.45802367\"),\n",
    "        \"C_A\": RIF(\"68.20829072\"),\n",
    "        \"V\":   RIF(\"12.00\"),\n",
    "        \"I\":   RIF(\"10.45\"),\n",
    "        \"T_R\": RIF(\"21.25\"),\n",
    "        \"G_H\": RIF(\"0.87095429\"),\n",
    "        \"G_B\": RIF(\"0.73572788\"),\n",
    "    }\n",
    ")\n",
    "system2b.ode_table"
   ]
  },
  {
   "cell_type": "code",
   "execution_count": 18,
   "metadata": {},
   "outputs": [],
   "source": [
    "rb = system2b.reach(1000, integration_method=IntegrationMethod.LOW_DEGREE)"
   ]
  },
  {
   "cell_type": "code",
   "execution_count": 19,
   "metadata": {},
   "outputs": [
    {
     "name": "stdout",
     "output_type": "stream",
     "text": [
      "plot_points = 1000\n",
      "plot_points = 1000\n"
     ]
    },
    {
     "data": {
      "image/png": "[encoded data removed]",
      "text/plain": [
       "Graphics object consisting of 6 graphics primitives"
      ]
     },
     "execution_count": 19,
     "metadata": {},
     "output_type": "execute_result"
    }
   ],
   "source": [
    "rb.sage_plot(T_A, color='blue', fillcolor='blue', linestyle=\"--\", fill={0: [1]}, **plot_params) + rb.sage_plot(T_H, color='green', fillcolor='green', linestyle=\"--\", fill={0: [1]}, **plot_params)"
   ]
  },
  {
   "cell_type": "markdown",
   "metadata": {},
   "source": [
    "### Combined model with jump and time variable"
   ]
  },
  {
   "cell_type": "code",
   "execution_count": 20,
   "metadata": {},
   "outputs": [],
   "source": [
    "system2a = IntervalParametricModel(\n",
    "    \"t,T_H,T_A\",\n",
    "    [RIF(\"102\"), RIF(\"43.228486\"), RIF(\"30.993974\")],\n",
    "    [\n",
    "        1,\n",
    "        (1/C_H)*(V*I - G_H*(T_H - T_A)),\n",
    "        (1/C_A)*(G_H*(T_H - T_A) - G_B*(T_A - T_R)),\n",
    "    ],\n",
    "    {\n",
    "        \"C_H\": RIF(\"243.45802367\"),\n",
    "        \"C_A\": RIF(\"68.20829072\"),\n",
    "        \"V\":   RIF(\"12.00\"),\n",
    "        \"I\":   RIF(\"10.45\"),\n",
    "        \"T_R\": RIF(\"21.25\"),\n",
    "        \"G_H\": RIF(\"0.87095429\"),\n",
    "        \"G_B\": RIF(\"0.73572788\"),\n",
    "    }\n",
    ")"
   ]
  },
  {
   "cell_type": "code",
   "execution_count": 21,
   "metadata": {},
   "outputs": [],
   "source": [
    "ra = system2a.reach(18, integration_method=IntegrationMethod.LOW_DEGREE)"
   ]
  },
  {
   "cell_type": "code",
   "execution_count": 22,
   "metadata": {},
   "outputs": [
    {
     "data": {
      "text/plain": [
       "[102, 43.2284860000?, 30.9939740000?]"
      ]
     },
     "execution_count": 22,
     "metadata": {},
     "output_type": "execute_result"
    }
   ],
   "source": [
    "ra(RIF(\"0\"))"
   ]
  },
  {
   "cell_type": "code",
   "execution_count": 23,
   "metadata": {},
   "outputs": [
    {
     "data": {
      "text/plain": [
       "[120.000000000?, 51.4883000?, 32.578768?]"
      ]
     },
     "execution_count": 23,
     "metadata": {},
     "output_type": "execute_result"
    }
   ],
   "source": [
    "ra(RIF(\"18\"))"
   ]
  },
  {
   "cell_type": "code",
   "execution_count": 24,
   "metadata": {},
   "outputs": [
    {
     "data": {
      "image/png": "[encoded data removed]",
      "text/plain": [
       "Graphics object consisting of 68 graphics primitives"
      ]
     },
     "execution_count": 24,
     "metadata": {},
     "output_type": "execute_result"
    }
   ],
   "source": [
    "pra = ra.sage_tube_plot('t', 'T_A', step=1, straight=True, joins=False, color='blue') + ra.sage_tube_plot('t', 'T_H', step=1, straight=True, joins=False, color='green'); pra"
   ]
  },
  {
   "cell_type": "markdown",
   "metadata": {},
   "source": [
    "No V*I term with heater off:"
   ]
  },
  {
   "cell_type": "code",
   "execution_count": 25,
   "metadata": {},
   "outputs": [
    {
     "data": {
      "text/html": [
       "<div class=\"notruncate\">\n",
       "<table  class=\"table_form\">\n",
       "<tbody>\n",
       "<tr class =\"row-a\">\n",
       "<td style=\"text-align:left\">\\(\\frac{\\partial}{\\partial t}t\\left(t\\right) = 1\\)</td>\n",
       "</tr>\n",
       "<tr class =\"row-b\">\n",
       "<td style=\"text-align:left\">\\(\\frac{\\partial}{\\partial t}T_{H}\\left(t\\right) = \\frac{G_{H} {\\left(T_{A}\\left(t\\right) - T_{H}\\left(t\\right)\\right)}}{C_{H}}\\)</td>\n",
       "</tr>\n",
       "<tr class =\"row-a\">\n",
       "<td style=\"text-align:left\">\\(\\frac{\\partial}{\\partial t}T_{A}\\left(t\\right) = \\frac{G_{B} {\\left(T_{R} - T_{A}\\left(t\\right)\\right)} - G_{H} {\\left(T_{A}\\left(t\\right) - T_{H}\\left(t\\right)\\right)}}{C_{A}}\\)</td>\n",
       "</tr>\n",
       "</tbody>\n",
       "</table>\n",
       "</div>"
      ],
      "text/plain": [
       "  diff(t(t), t) == 1\n",
       "  diff(T_H(t), t) == G_H*(T_A(t) - T_H(t))/C_H\n",
       "  diff(T_A(t), t) == (G_B*(T_R - T_A(t)) - G_H*(T_A(t) - T_H(t)))/C_A"
      ]
     },
     "execution_count": 25,
     "metadata": {},
     "output_type": "execute_result"
    }
   ],
   "source": [
    "system2b = IntervalParametricModel(\n",
    "    \"t,T_H,T_A\",\n",
    "    ra(RIF(\"18\")),\n",
    "    [\n",
    "        1,\n",
    "        (1/C_H)*( - G_H*(T_H - T_A)),\n",
    "        (1/C_A)*(G_H*(T_H - T_A) - G_B*(T_A - T_R)),\n",
    "    ],\n",
    "    {\n",
    "        \"C_H\": RIF(\"243.45802367\"),\n",
    "        \"C_A\": RIF(\"68.20829072\"),\n",
    "        \"V\":   RIF(\"12.00\"),\n",
    "        \"I\":   RIF(\"10.45\"),\n",
    "        \"T_R\": RIF(\"21.25\"),\n",
    "        \"G_H\": RIF(\"0.87095429\"),\n",
    "        \"G_B\": RIF(\"0.73572788\"),\n",
    "    }\n",
    ")\n",
    "system2b.ode_table"
   ]
  },
  {
   "cell_type": "code",
   "execution_count": 26,
   "metadata": {},
   "outputs": [],
   "source": [
    "rb = system2b.reach(477, integration_method=IntegrationMethod.LOW_DEGREE)"
   ]
  },
  {
   "cell_type": "code",
   "execution_count": 27,
   "metadata": {},
   "outputs": [
    {
     "data": {
      "image/png": "[encoded data removed]",
      "text/plain": [
       "Graphics object consisting of 1904 graphics primitives"
      ]
     },
     "execution_count": 27,
     "metadata": {},
     "output_type": "execute_result"
    }
   ],
   "source": [
    "prb = rb.sage_tube_plot('t', 'T_A', step=1, straight=True, joins=False, color='blue') + rb.sage_tube_plot('t', 'T_H', step=1, straight=True, joins=False, color='green'); prb"
   ]
  },
  {
   "cell_type": "code",
   "execution_count": 28,
   "metadata": {},
   "outputs": [
    {
     "data": {
      "image/png": "[encoded data removed]",
      "text/plain": [
       "Graphics object consisting of 1972 graphics primitives"
      ]
     },
     "execution_count": 28,
     "metadata": {},
     "output_type": "execute_result"
    }
   ],
   "source": [
    "pra+prb"
   ]
  },
  {
   "cell_type": "code",
   "execution_count": 29,
   "metadata": {},
   "outputs": [],
   "source": [
    "# prb = data.loc[40, 'time'] - data.loc[34, 'time']; prb"
   ]
  },
  {
   "cell_type": "code",
   "execution_count": 30,
   "metadata": {},
   "outputs": [
    {
     "name": "stdout",
     "output_type": "stream",
     "text": [
      "plot_points = 477\n",
      "plot_points = 477\n"
     ]
    },
    {
     "data": {
      "image/png": "[encoded data removed]",
      "text/plain": [
       "Graphics object consisting of 6 graphics primitives"
      ]
     },
     "execution_count": 30,
     "metadata": {},
     "output_type": "execute_result"
    }
   ],
   "source": [
    "rb.sage_plot(T_A, color='blue', fillcolor='blue', linestyle=\"--\", fill={0: [1]}, **plot_params) + rb.sage_plot(T_H, color='green', fillcolor='green', linestyle=\"--\", fill={0: [1]}, **plot_params)"
   ]
  },
  {
   "cell_type": "markdown",
   "metadata": {},
   "source": [
    "### Single example rough parametric system model"
   ]
  },
  {
   "cell_type": "code",
   "execution_count": 31,
   "metadata": {},
   "outputs": [],
   "source": [
    "def systemp(x0, heater_on):\n",
    "    return IntervalParametricModel(\n",
    "        \"t,T_H,T_A\",\n",
    "        x0,\n",
    "        [\n",
    "            1,\n",
    "            (1/C_H)*(int(heater_on)*V*I - G_H*(T_H - T_A)),\n",
    "            (1/C_A)*(G_H*(T_H - T_A) - G_B*(T_A - T_R)),\n",
    "        ],\n",
    "        {\n",
    "            \"C_H\": RIF(\"243.45802367\"),\n",
    "            \"C_A\": RIF(\"68.20829072\"),\n",
    "            \"V\":   RIF(\"12.00\"),\n",
    "            \"I\":   RIF(\"10.45\"),\n",
    "            \"T_R\": RIF(\"21.25\"),\n",
    "            \"G_H\": RIF(\"0.87095429\"),\n",
    "            \"G_B\": RIF(\"0.73572788\"),\n",
    "        }\n",
    "    )"
   ]
  },
  {
   "cell_type": "code",
   "execution_count": 32,
   "metadata": {},
   "outputs": [],
   "source": [
    "on_time, off_time = 22,31"
   ]
  },
  {
   "cell_type": "code",
   "execution_count": 33,
   "metadata": {},
   "outputs": [],
   "source": [
    "rs = []"
   ]
  },
  {
   "cell_type": "code",
   "execution_count": 34,
   "metadata": {},
   "outputs": [],
   "source": [
    "rs.append(systemp([0, RIF('25'), RIF('22.5935')], True).reach(on_time, integration_method=IntegrationMethod.LOW_DEGREE))"
   ]
  },
  {
   "cell_type": "code",
   "execution_count": 35,
   "metadata": {},
   "outputs": [],
   "source": [
    "rs.append(systemp(rs[-1](on_time), False).reach(off_time, integration_method=IntegrationMethod.LOW_DEGREE))"
   ]
  },
  {
   "cell_type": "code",
   "execution_count": 36,
   "metadata": {},
   "outputs": [],
   "source": [
    "rs.append(systemp(rs[-1](off_time), True).reach(on_time, integration_method=IntegrationMethod.LOW_DEGREE))"
   ]
  },
  {
   "cell_type": "code",
   "execution_count": 37,
   "metadata": {},
   "outputs": [],
   "source": [
    "rs.append(systemp(rs[-1](on_time), False).reach(off_time, integration_method=IntegrationMethod.LOW_DEGREE))"
   ]
  },
  {
   "cell_type": "code",
   "execution_count": 38,
   "metadata": {},
   "outputs": [],
   "source": [
    "rs.append(systemp(rs[-1](off_time), True).reach(on_time, integration_method=IntegrationMethod.LOW_DEGREE))"
   ]
  },
  {
   "cell_type": "code",
   "execution_count": 39,
   "metadata": {},
   "outputs": [],
   "source": [
    "rs.append(systemp(rs[-1](on_time), False).reach(477, integration_method=IntegrationMethod.LOW_DEGREE))"
   ]
  },
  {
   "cell_type": "code",
   "execution_count": 40,
   "metadata": {},
   "outputs": [
    {
     "data": {
      "text/plain": [
       "[<flowstar.reachability.Reach object at 0x7f3ba3daadc0>,\n",
       " <flowstar.reachability.Reach object at 0x7f3ba0031160>,\n",
       " <flowstar.reachability.Reach object at 0x7f3ba0031280>,\n",
       " <flowstar.reachability.Reach object at 0x7f3ba00313a0>,\n",
       " <flowstar.reachability.Reach object at 0x7f3ba00314c0>,\n",
       " <flowstar.reachability.Reach object at 0x7f3ba00315e0>]"
      ]
     },
     "execution_count": 40,
     "metadata": {},
     "output_type": "execute_result"
    }
   ],
   "source": [
    "rs"
   ]
  },
  {
   "cell_type": "code",
   "execution_count": 41,
   "metadata": {},
   "outputs": [
    {
     "data": {
      "image/png": "[encoded data removed]",
      "text/plain": [
       "Graphics object consisting of 2396 graphics primitives"
      ]
     },
     "execution_count": 41,
     "metadata": {},
     "output_type": "execute_result"
    }
   ],
   "source": [
    "g1 = sum(\n",
    "    (  r.sage_tube_plot('t', 'T_A', step=1, straight=True, joins=False, color='blue')\n",
    "     + r.sage_tube_plot('t', 'T_H', step=1, straight=True, joins=False, color='green')\n",
    "     for r in rs),\n",
    "    Graphics()\n",
    ")\n",
    "g1"
   ]
  },
  {
   "cell_type": "code",
   "execution_count": 42,
   "metadata": {},
   "outputs": [],
   "source": [
    "import pandas as pd"
   ]
  },
  {
   "cell_type": "code",
   "execution_count": 44,
   "metadata": {},
   "outputs": [
    {
     "data": {
      "text/html": [
       "<div>\n",
       "<style scoped>\n",
       "    .dataframe tbody tr th:only-of-type {\n",
       "        vertical-align: middle;\n",
       "    }\n",
       "\n",
       "    .dataframe tbody tr th {\n",
       "        vertical-align: top;\n",
       "    }\n",
       "\n",
       "    .dataframe thead th {\n",
       "        text-align: right;\n",
       "    }\n",
       "</style>\n",
       "<table border=\"1\" class=\"dataframe\">\n",
       "  <thead>\n",
       "    <tr style=\"text-align: right;\">\n",
       "      <th></th>\n",
       "      <th>time</th>\n",
       "      <th>execution_interval</th>\n",
       "      <th>heater_on</th>\n",
       "      <th>fan_on</th>\n",
       "      <th>t1</th>\n",
       "      <th>time_t1</th>\n",
       "      <th>t2</th>\n",
       "      <th>time_t2</th>\n",
       "      <th>t3</th>\n",
       "      <th>time_t3</th>\n",
       "      <th>elapsed</th>\n",
       "      <th>timestamp</th>\n",
       "      <th>power_in</th>\n",
       "      <th>energy_in</th>\n",
       "      <th>average_temperature</th>\n",
       "      <th>avg_temp_kelvin</th>\n",
       "      <th>potential_energy</th>\n",
       "      <th>lid_open</th>\n",
       "    </tr>\n",
       "  </thead>\n",
       "  <tbody>\n",
       "    <tr>\n",
       "      <th>0</th>\n",
       "      <td>0.000000</td>\n",
       "      <td>3</td>\n",
       "      <td>False</td>\n",
       "      <td>False</td>\n",
       "      <td>21.250</td>\n",
       "      <td>1.608640e+09</td>\n",
       "      <td>23.062</td>\n",
       "      <td>1.608640e+09</td>\n",
       "      <td>22.125</td>\n",
       "      <td>1.608640e+09</td>\n",
       "      <td>2.630852</td>\n",
       "      <td>2020-12-22 12:23:16.000302848</td>\n",
       "      <td>0.0</td>\n",
       "      <td>0.000000</td>\n",
       "      <td>22.5935</td>\n",
       "      <td>295.7435</td>\n",
       "      <td>0.000</td>\n",
       "      <td>0.0</td>\n",
       "    </tr>\n",
       "    <tr>\n",
       "      <th>1</th>\n",
       "      <td>3.119963</td>\n",
       "      <td>3</td>\n",
       "      <td>True</td>\n",
       "      <td>True</td>\n",
       "      <td>21.250</td>\n",
       "      <td>1.608640e+09</td>\n",
       "      <td>23.125</td>\n",
       "      <td>1.608640e+09</td>\n",
       "      <td>22.187</td>\n",
       "      <td>1.608640e+09</td>\n",
       "      <td>2.750368</td>\n",
       "      <td>2020-12-22 12:23:19.120266240</td>\n",
       "      <td>125.4</td>\n",
       "      <td>195.621706</td>\n",
       "      <td>22.6560</td>\n",
       "      <td>295.8060</td>\n",
       "      <td>1.750</td>\n",
       "      <td>0.0</td>\n",
       "    </tr>\n",
       "    <tr>\n",
       "      <th>2</th>\n",
       "      <td>5.999978</td>\n",
       "      <td>3</td>\n",
       "      <td>True</td>\n",
       "      <td>True</td>\n",
       "      <td>21.250</td>\n",
       "      <td>1.608640e+09</td>\n",
       "      <td>23.437</td>\n",
       "      <td>1.608640e+09</td>\n",
       "      <td>22.312</td>\n",
       "      <td>1.608640e+09</td>\n",
       "      <td>2.630082</td>\n",
       "      <td>2020-12-22 12:23:22.000281088</td>\n",
       "      <td>125.4</td>\n",
       "      <td>556.775574</td>\n",
       "      <td>22.8745</td>\n",
       "      <td>296.0245</td>\n",
       "      <td>7.868</td>\n",
       "      <td>0.0</td>\n",
       "    </tr>\n",
       "    <tr>\n",
       "      <th>3</th>\n",
       "      <td>9.039983</td>\n",
       "      <td>3</td>\n",
       "      <td>True</td>\n",
       "      <td>True</td>\n",
       "      <td>21.250</td>\n",
       "      <td>1.608640e+09</td>\n",
       "      <td>23.750</td>\n",
       "      <td>1.608640e+09</td>\n",
       "      <td>22.500</td>\n",
       "      <td>1.608640e+09</td>\n",
       "      <td>2.669633</td>\n",
       "      <td>2020-12-22 12:23:25.040285696</td>\n",
       "      <td>125.4</td>\n",
       "      <td>937.992137</td>\n",
       "      <td>23.1250</td>\n",
       "      <td>296.2750</td>\n",
       "      <td>14.882</td>\n",
       "      <td>0.0</td>\n",
       "    </tr>\n",
       "    <tr>\n",
       "      <th>4</th>\n",
       "      <td>12.000037</td>\n",
       "      <td>3</td>\n",
       "      <td>True</td>\n",
       "      <td>True</td>\n",
       "      <td>21.250</td>\n",
       "      <td>1.608640e+09</td>\n",
       "      <td>24.187</td>\n",
       "      <td>1.608640e+09</td>\n",
       "      <td>22.687</td>\n",
       "      <td>1.608640e+09</td>\n",
       "      <td>2.629303</td>\n",
       "      <td>2020-12-22 12:23:28.000339456</td>\n",
       "      <td>125.4</td>\n",
       "      <td>1309.182899</td>\n",
       "      <td>23.4370</td>\n",
       "      <td>296.5870</td>\n",
       "      <td>23.618</td>\n",
       "      <td>0.0</td>\n",
       "    </tr>\n",
       "    <tr>\n",
       "      <th>...</th>\n",
       "      <td>...</td>\n",
       "      <td>...</td>\n",
       "      <td>...</td>\n",
       "      <td>...</td>\n",
       "      <td>...</td>\n",
       "      <td>...</td>\n",
       "      <td>...</td>\n",
       "      <td>...</td>\n",
       "      <td>...</td>\n",
       "      <td>...</td>\n",
       "      <td>...</td>\n",
       "      <td>...</td>\n",
       "      <td>...</td>\n",
       "      <td>...</td>\n",
       "      <td>...</td>\n",
       "      <td>...</td>\n",
       "      <td>...</td>\n",
       "      <td>...</td>\n",
       "    </tr>\n",
       "    <tr>\n",
       "      <th>195</th>\n",
       "      <td>585.120023</td>\n",
       "      <td>3</td>\n",
       "      <td>False</td>\n",
       "      <td>True</td>\n",
       "      <td>21.312</td>\n",
       "      <td>1.608640e+09</td>\n",
       "      <td>30.375</td>\n",
       "      <td>1.608640e+09</td>\n",
       "      <td>30.187</td>\n",
       "      <td>1.608640e+09</td>\n",
       "      <td>2.666753</td>\n",
       "      <td>2020-12-22 12:33:01.120326144</td>\n",
       "      <td>0.0</td>\n",
       "      <td>7895.235055</td>\n",
       "      <td>30.2810</td>\n",
       "      <td>303.4310</td>\n",
       "      <td>215.250</td>\n",
       "      <td>0.0</td>\n",
       "    </tr>\n",
       "    <tr>\n",
       "      <th>196</th>\n",
       "      <td>588.080744</td>\n",
       "      <td>3</td>\n",
       "      <td>False</td>\n",
       "      <td>True</td>\n",
       "      <td>21.312</td>\n",
       "      <td>1.608640e+09</td>\n",
       "      <td>30.375</td>\n",
       "      <td>1.608640e+09</td>\n",
       "      <td>30.062</td>\n",
       "      <td>1.608640e+09</td>\n",
       "      <td>2.627111</td>\n",
       "      <td>2020-12-22 12:33:04.081046784</td>\n",
       "      <td>0.0</td>\n",
       "      <td>7895.235055</td>\n",
       "      <td>30.2185</td>\n",
       "      <td>303.3685</td>\n",
       "      <td>213.500</td>\n",
       "      <td>0.0</td>\n",
       "    </tr>\n",
       "    <tr>\n",
       "      <th>197</th>\n",
       "      <td>591.120177</td>\n",
       "      <td>3</td>\n",
       "      <td>False</td>\n",
       "      <td>True</td>\n",
       "      <td>21.312</td>\n",
       "      <td>1.608640e+09</td>\n",
       "      <td>30.312</td>\n",
       "      <td>1.608640e+09</td>\n",
       "      <td>30.062</td>\n",
       "      <td>1.608640e+09</td>\n",
       "      <td>2.666098</td>\n",
       "      <td>2020-12-22 12:33:07.120479488</td>\n",
       "      <td>0.0</td>\n",
       "      <td>7895.235055</td>\n",
       "      <td>30.1870</td>\n",
       "      <td>303.3370</td>\n",
       "      <td>212.618</td>\n",
       "      <td>0.0</td>\n",
       "    </tr>\n",
       "    <tr>\n",
       "      <th>198</th>\n",
       "      <td>594.079976</td>\n",
       "      <td>3</td>\n",
       "      <td>False</td>\n",
       "      <td>True</td>\n",
       "      <td>21.312</td>\n",
       "      <td>1.608640e+09</td>\n",
       "      <td>30.250</td>\n",
       "      <td>1.608640e+09</td>\n",
       "      <td>30.000</td>\n",
       "      <td>1.608640e+09</td>\n",
       "      <td>2.625489</td>\n",
       "      <td>2020-12-22 12:33:10.080278528</td>\n",
       "      <td>0.0</td>\n",
       "      <td>7895.235055</td>\n",
       "      <td>30.1250</td>\n",
       "      <td>303.2750</td>\n",
       "      <td>210.882</td>\n",
       "      <td>0.0</td>\n",
       "    </tr>\n",
       "    <tr>\n",
       "      <th>199</th>\n",
       "      <td>597.119983</td>\n",
       "      <td>3</td>\n",
       "      <td>False</td>\n",
       "      <td>True</td>\n",
       "      <td>21.312</td>\n",
       "      <td>1.608640e+09</td>\n",
       "      <td>30.187</td>\n",
       "      <td>1.608640e+09</td>\n",
       "      <td>29.937</td>\n",
       "      <td>1.608640e+09</td>\n",
       "      <td>2.665054</td>\n",
       "      <td>2020-12-22 12:33:13.120285952</td>\n",
       "      <td>0.0</td>\n",
       "      <td>7895.235055</td>\n",
       "      <td>30.0620</td>\n",
       "      <td>303.2120</td>\n",
       "      <td>209.118</td>\n",
       "      <td>0.0</td>\n",
       "    </tr>\n",
       "  </tbody>\n",
       "</table>\n",
       "<p>200 rows × 18 columns</p>\n",
       "</div>"
      ],
      "text/plain": [
       "           time  execution_interval  heater_on  fan_on      t1       time_t1  \\\n",
       "0      0.000000                   3      False   False  21.250  1.608640e+09   \n",
       "1      3.119963                   3       True    True  21.250  1.608640e+09   \n",
       "2      5.999978                   3       True    True  21.250  1.608640e+09   \n",
       "3      9.039983                   3       True    True  21.250  1.608640e+09   \n",
       "4     12.000037                   3       True    True  21.250  1.608640e+09   \n",
       "..          ...                 ...        ...     ...     ...           ...   \n",
       "195  585.120023                   3      False    True  21.312  1.608640e+09   \n",
       "196  588.080744                   3      False    True  21.312  1.608640e+09   \n",
       "197  591.120177                   3      False    True  21.312  1.608640e+09   \n",
       "198  594.079976                   3      False    True  21.312  1.608640e+09   \n",
       "199  597.119983                   3      False    True  21.312  1.608640e+09   \n",
       "\n",
       "         t2       time_t2      t3       time_t3   elapsed  \\\n",
       "0    23.062  1.608640e+09  22.125  1.608640e+09  2.630852   \n",
       "1    23.125  1.608640e+09  22.187  1.608640e+09  2.750368   \n",
       "2    23.437  1.608640e+09  22.312  1.608640e+09  2.630082   \n",
       "3    23.750  1.608640e+09  22.500  1.608640e+09  2.669633   \n",
       "4    24.187  1.608640e+09  22.687  1.608640e+09  2.629303   \n",
       "..      ...           ...     ...           ...       ...   \n",
       "195  30.375  1.608640e+09  30.187  1.608640e+09  2.666753   \n",
       "196  30.375  1.608640e+09  30.062  1.608640e+09  2.627111   \n",
       "197  30.312  1.608640e+09  30.062  1.608640e+09  2.666098   \n",
       "198  30.250  1.608640e+09  30.000  1.608640e+09  2.625489   \n",
       "199  30.187  1.608640e+09  29.937  1.608640e+09  2.665054   \n",
       "\n",
       "                         timestamp  power_in    energy_in  \\\n",
       "0    2020-12-22 12:23:16.000302848       0.0     0.000000   \n",
       "1    2020-12-22 12:23:19.120266240     125.4   195.621706   \n",
       "2    2020-12-22 12:23:22.000281088     125.4   556.775574   \n",
       "3    2020-12-22 12:23:25.040285696     125.4   937.992137   \n",
       "4    2020-12-22 12:23:28.000339456     125.4  1309.182899   \n",
       "..                             ...       ...          ...   \n",
       "195  2020-12-22 12:33:01.120326144       0.0  7895.235055   \n",
       "196  2020-12-22 12:33:04.081046784       0.0  7895.235055   \n",
       "197  2020-12-22 12:33:07.120479488       0.0  7895.235055   \n",
       "198  2020-12-22 12:33:10.080278528       0.0  7895.235055   \n",
       "199  2020-12-22 12:33:13.120285952       0.0  7895.235055   \n",
       "\n",
       "     average_temperature  avg_temp_kelvin  potential_energy  lid_open  \n",
       "0                22.5935         295.7435             0.000       0.0  \n",
       "1                22.6560         295.8060             1.750       0.0  \n",
       "2                22.8745         296.0245             7.868       0.0  \n",
       "3                23.1250         296.2750            14.882       0.0  \n",
       "4                23.4370         296.5870            23.618       0.0  \n",
       "..                   ...              ...               ...       ...  \n",
       "195              30.2810         303.4310           215.250       0.0  \n",
       "196              30.2185         303.3685           213.500       0.0  \n",
       "197              30.1870         303.3370           212.618       0.0  \n",
       "198              30.1250         303.2750           210.882       0.0  \n",
       "199              30.0620         303.2120           209.118       0.0  \n",
       "\n",
       "[200 rows x 18 columns]"
      ]
     },
     "execution_count": 44,
     "metadata": {},
     "output_type": "execute_result"
    }
   ],
   "source": [
    "df = pd.read_csv(\"./notebooks/model_test_data.csv\", index_col=0)\n",
    "df = df.loc[df['time'] <= 600]\n",
    "df"
   ]
  },
  {
   "cell_type": "code",
   "execution_count": 45,
   "metadata": {},
   "outputs": [
    {
     "data": {
      "text/html": [
       "<div>\n",
       "<style scoped>\n",
       "    .dataframe tbody tr th:only-of-type {\n",
       "        vertical-align: middle;\n",
       "    }\n",
       "\n",
       "    .dataframe tbody tr th {\n",
       "        vertical-align: top;\n",
       "    }\n",
       "\n",
       "    .dataframe thead th {\n",
       "        text-align: right;\n",
       "    }\n",
       "</style>\n",
       "<table border=\"1\" class=\"dataframe\">\n",
       "  <thead>\n",
       "    <tr style=\"text-align: right;\">\n",
       "      <th></th>\n",
       "      <th>time</th>\n",
       "      <th>der_time</th>\n",
       "      <th>in_heater_on</th>\n",
       "      <th>in_heater_voltage</th>\n",
       "      <th>in_heater_current</th>\n",
       "      <th>in_room_temperature</th>\n",
       "      <th>power_in</th>\n",
       "      <th>G_box</th>\n",
       "      <th>T</th>\n",
       "      <th>power_out_box</th>\n",
       "      <th>total_power_box</th>\n",
       "      <th>der_T</th>\n",
       "      <th>T_heater</th>\n",
       "      <th>power_transfer_heat</th>\n",
       "      <th>total_power_heater</th>\n",
       "      <th>der_T_heater</th>\n",
       "    </tr>\n",
       "  </thead>\n",
       "  <tbody>\n",
       "    <tr>\n",
       "      <th>0</th>\n",
       "      <td>-0.000000</td>\n",
       "      <td>1.0</td>\n",
       "      <td>False</td>\n",
       "      <td>12.0</td>\n",
       "      <td>10.45</td>\n",
       "      <td>21.250</td>\n",
       "      <td>0.0</td>\n",
       "      <td>0.735728</td>\n",
       "      <td>22.593500</td>\n",
       "      <td>0.988450</td>\n",
       "      <td>1.107501</td>\n",
       "      <td>0.016237</td>\n",
       "      <td>25.000000</td>\n",
       "      <td>2.095951</td>\n",
       "      <td>-2.095951</td>\n",
       "      <td>-0.008609</td>\n",
       "    </tr>\n",
       "    <tr>\n",
       "      <th>1</th>\n",
       "      <td>4.571125</td>\n",
       "      <td>1.0</td>\n",
       "      <td>True</td>\n",
       "      <td>12.0</td>\n",
       "      <td>10.45</td>\n",
       "      <td>21.250</td>\n",
       "      <td>125.4</td>\n",
       "      <td>0.735728</td>\n",
       "      <td>22.668311</td>\n",
       "      <td>1.043491</td>\n",
       "      <td>1.571021</td>\n",
       "      <td>0.023033</td>\n",
       "      <td>25.670204</td>\n",
       "      <td>2.614512</td>\n",
       "      <td>122.785488</td>\n",
       "      <td>0.504339</td>\n",
       "    </tr>\n",
       "    <tr>\n",
       "      <th>2</th>\n",
       "      <td>7.571125</td>\n",
       "      <td>1.0</td>\n",
       "      <td>True</td>\n",
       "      <td>12.0</td>\n",
       "      <td>10.45</td>\n",
       "      <td>21.250</td>\n",
       "      <td>125.4</td>\n",
       "      <td>0.735728</td>\n",
       "      <td>22.763237</td>\n",
       "      <td>1.113331</td>\n",
       "      <td>2.729631</td>\n",
       "      <td>0.040019</td>\n",
       "      <td>27.175595</td>\n",
       "      <td>3.842962</td>\n",
       "      <td>121.557038</td>\n",
       "      <td>0.499294</td>\n",
       "    </tr>\n",
       "    <tr>\n",
       "      <th>3</th>\n",
       "      <td>10.571125</td>\n",
       "      <td>1.0</td>\n",
       "      <td>True</td>\n",
       "      <td>12.0</td>\n",
       "      <td>10.45</td>\n",
       "      <td>21.250</td>\n",
       "      <td>125.4</td>\n",
       "      <td>0.735728</td>\n",
       "      <td>22.907084</td>\n",
       "      <td>1.219163</td>\n",
       "      <td>3.796758</td>\n",
       "      <td>0.055664</td>\n",
       "      <td>28.666194</td>\n",
       "      <td>5.015921</td>\n",
       "      <td>120.384079</td>\n",
       "      <td>0.494476</td>\n",
       "    </tr>\n",
       "    <tr>\n",
       "      <th>4</th>\n",
       "      <td>13.571125</td>\n",
       "      <td>1.0</td>\n",
       "      <td>True</td>\n",
       "      <td>12.0</td>\n",
       "      <td>10.45</td>\n",
       "      <td>21.250</td>\n",
       "      <td>125.4</td>\n",
       "      <td>0.735728</td>\n",
       "      <td>23.095981</td>\n",
       "      <td>1.358139</td>\n",
       "      <td>4.779197</td>\n",
       "      <td>0.070068</td>\n",
       "      <td>30.142661</td>\n",
       "      <td>6.137336</td>\n",
       "      <td>119.262664</td>\n",
       "      <td>0.489870</td>\n",
       "    </tr>\n",
       "    <tr>\n",
       "      <th>...</th>\n",
       "      <td>...</td>\n",
       "      <td>...</td>\n",
       "      <td>...</td>\n",
       "      <td>...</td>\n",
       "      <td>...</td>\n",
       "      <td>...</td>\n",
       "      <td>...</td>\n",
       "      <td>...</td>\n",
       "      <td>...</td>\n",
       "      <td>...</td>\n",
       "      <td>...</td>\n",
       "      <td>...</td>\n",
       "      <td>...</td>\n",
       "      <td>...</td>\n",
       "      <td>...</td>\n",
       "      <td>...</td>\n",
       "    </tr>\n",
       "    <tr>\n",
       "      <th>195</th>\n",
       "      <td>586.571125</td>\n",
       "      <td>1.0</td>\n",
       "      <td>False</td>\n",
       "      <td>12.0</td>\n",
       "      <td>10.45</td>\n",
       "      <td>21.312</td>\n",
       "      <td>0.0</td>\n",
       "      <td>0.735728</td>\n",
       "      <td>30.018043</td>\n",
       "      <td>6.405279</td>\n",
       "      <td>-0.887260</td>\n",
       "      <td>-0.013008</td>\n",
       "      <td>36.353644</td>\n",
       "      <td>5.518019</td>\n",
       "      <td>-5.518019</td>\n",
       "      <td>-0.022665</td>\n",
       "    </tr>\n",
       "    <tr>\n",
       "      <th>196</th>\n",
       "      <td>589.571125</td>\n",
       "      <td>1.0</td>\n",
       "      <td>False</td>\n",
       "      <td>12.0</td>\n",
       "      <td>10.45</td>\n",
       "      <td>21.312</td>\n",
       "      <td>0.0</td>\n",
       "      <td>0.735728</td>\n",
       "      <td>29.979095</td>\n",
       "      <td>6.376624</td>\n",
       "      <td>-0.883769</td>\n",
       "      <td>-0.012957</td>\n",
       "      <td>36.285803</td>\n",
       "      <td>5.492854</td>\n",
       "      <td>-5.492854</td>\n",
       "      <td>-0.022562</td>\n",
       "    </tr>\n",
       "    <tr>\n",
       "      <th>197</th>\n",
       "      <td>592.571125</td>\n",
       "      <td>1.0</td>\n",
       "      <td>False</td>\n",
       "      <td>12.0</td>\n",
       "      <td>10.45</td>\n",
       "      <td>21.312</td>\n",
       "      <td>0.0</td>\n",
       "      <td>0.735728</td>\n",
       "      <td>29.940302</td>\n",
       "      <td>6.348082</td>\n",
       "      <td>-0.880257</td>\n",
       "      <td>-0.012905</td>\n",
       "      <td>36.218272</td>\n",
       "      <td>5.467825</td>\n",
       "      <td>-5.467825</td>\n",
       "      <td>-0.022459</td>\n",
       "    </tr>\n",
       "    <tr>\n",
       "      <th>198</th>\n",
       "      <td>595.571125</td>\n",
       "      <td>1.0</td>\n",
       "      <td>False</td>\n",
       "      <td>12.0</td>\n",
       "      <td>10.45</td>\n",
       "      <td>21.312</td>\n",
       "      <td>0.0</td>\n",
       "      <td>0.735728</td>\n",
       "      <td>29.901663</td>\n",
       "      <td>6.319655</td>\n",
       "      <td>-0.876725</td>\n",
       "      <td>-0.012854</td>\n",
       "      <td>36.151049</td>\n",
       "      <td>5.442929</td>\n",
       "      <td>-5.442929</td>\n",
       "      <td>-0.022357</td>\n",
       "    </tr>\n",
       "    <tr>\n",
       "      <th>199</th>\n",
       "      <td>598.571125</td>\n",
       "      <td>1.0</td>\n",
       "      <td>False</td>\n",
       "      <td>12.0</td>\n",
       "      <td>10.45</td>\n",
       "      <td>21.312</td>\n",
       "      <td>0.0</td>\n",
       "      <td>0.735728</td>\n",
       "      <td>29.863180</td>\n",
       "      <td>6.291342</td>\n",
       "      <td>-0.873178</td>\n",
       "      <td>-0.012802</td>\n",
       "      <td>36.084131</td>\n",
       "      <td>5.418164</td>\n",
       "      <td>-5.418164</td>\n",
       "      <td>-0.022255</td>\n",
       "    </tr>\n",
       "  </tbody>\n",
       "</table>\n",
       "<p>200 rows × 16 columns</p>\n",
       "</div>"
      ],
      "text/plain": [
       "           time  der_time  in_heater_on  in_heater_voltage  in_heater_current  \\\n",
       "0     -0.000000       1.0         False               12.0              10.45   \n",
       "1      4.571125       1.0          True               12.0              10.45   \n",
       "2      7.571125       1.0          True               12.0              10.45   \n",
       "3     10.571125       1.0          True               12.0              10.45   \n",
       "4     13.571125       1.0          True               12.0              10.45   \n",
       "..          ...       ...           ...                ...                ...   \n",
       "195  586.571125       1.0         False               12.0              10.45   \n",
       "196  589.571125       1.0         False               12.0              10.45   \n",
       "197  592.571125       1.0         False               12.0              10.45   \n",
       "198  595.571125       1.0         False               12.0              10.45   \n",
       "199  598.571125       1.0         False               12.0              10.45   \n",
       "\n",
       "     in_room_temperature  power_in     G_box          T  power_out_box  \\\n",
       "0                 21.250       0.0  0.735728  22.593500       0.988450   \n",
       "1                 21.250     125.4  0.735728  22.668311       1.043491   \n",
       "2                 21.250     125.4  0.735728  22.763237       1.113331   \n",
       "3                 21.250     125.4  0.735728  22.907084       1.219163   \n",
       "4                 21.250     125.4  0.735728  23.095981       1.358139   \n",
       "..                   ...       ...       ...        ...            ...   \n",
       "195               21.312       0.0  0.735728  30.018043       6.405279   \n",
       "196               21.312       0.0  0.735728  29.979095       6.376624   \n",
       "197               21.312       0.0  0.735728  29.940302       6.348082   \n",
       "198               21.312       0.0  0.735728  29.901663       6.319655   \n",
       "199               21.312       0.0  0.735728  29.863180       6.291342   \n",
       "\n",
       "     total_power_box     der_T   T_heater  power_transfer_heat  \\\n",
       "0           1.107501  0.016237  25.000000             2.095951   \n",
       "1           1.571021  0.023033  25.670204             2.614512   \n",
       "2           2.729631  0.040019  27.175595             3.842962   \n",
       "3           3.796758  0.055664  28.666194             5.015921   \n",
       "4           4.779197  0.070068  30.142661             6.137336   \n",
       "..               ...       ...        ...                  ...   \n",
       "195        -0.887260 -0.013008  36.353644             5.518019   \n",
       "196        -0.883769 -0.012957  36.285803             5.492854   \n",
       "197        -0.880257 -0.012905  36.218272             5.467825   \n",
       "198        -0.876725 -0.012854  36.151049             5.442929   \n",
       "199        -0.873178 -0.012802  36.084131             5.418164   \n",
       "\n",
       "     total_power_heater  der_T_heater  \n",
       "0             -2.095951     -0.008609  \n",
       "1            122.785488      0.504339  \n",
       "2            121.557038      0.499294  \n",
       "3            120.384079      0.494476  \n",
       "4            119.262664      0.489870  \n",
       "..                  ...           ...  \n",
       "195           -5.518019     -0.022665  \n",
       "196           -5.492854     -0.022562  \n",
       "197           -5.467825     -0.022459  \n",
       "198           -5.442929     -0.022357  \n",
       "199           -5.418164     -0.022255  \n",
       "\n",
       "[200 rows x 16 columns]"
      ]
     },
     "execution_count": 45,
     "metadata": {},
     "output_type": "execute_result"
    }
   ],
   "source": [
    "dfs = pd.read_csv(\"./notebooks/model_simulated_data.csv\", index_col=0)\n",
    "dfs.loc[:, 'time'] = dfs.loc[:, 'time'] - list(dfs['time'])[0]\n",
    "dfs = dfs.loc[dfs['time'] <= 600]\n",
    "dfs"
   ]
  },
  {
   "cell_type": "code",
   "execution_count": 46,
   "metadata": {},
   "outputs": [
    {
     "data": {
      "text/html": [
       "<div>\n",
       "<style scoped>\n",
       "    .dataframe tbody tr th:only-of-type {\n",
       "        vertical-align: middle;\n",
       "    }\n",
       "\n",
       "    .dataframe tbody tr th {\n",
       "        vertical-align: top;\n",
       "    }\n",
       "\n",
       "    .dataframe thead th {\n",
       "        text-align: right;\n",
       "    }\n",
       "</style>\n",
       "<table border=\"1\" class=\"dataframe\">\n",
       "  <thead>\n",
       "    <tr style=\"text-align: right;\">\n",
       "      <th></th>\n",
       "      <th>time</th>\n",
       "      <th>der_time</th>\n",
       "      <th>in_heater_on</th>\n",
       "      <th>in_heater_voltage</th>\n",
       "      <th>in_heater_current</th>\n",
       "      <th>in_room_temperature</th>\n",
       "      <th>power_in</th>\n",
       "      <th>G_box</th>\n",
       "      <th>T</th>\n",
       "      <th>power_out_box</th>\n",
       "      <th>total_power_box</th>\n",
       "      <th>der_T</th>\n",
       "      <th>T_heater</th>\n",
       "      <th>power_transfer_heat</th>\n",
       "      <th>total_power_heater</th>\n",
       "      <th>der_T_heater</th>\n",
       "    </tr>\n",
       "  </thead>\n",
       "  <tbody>\n",
       "    <tr>\n",
       "      <th>0</th>\n",
       "      <td>-0.000000</td>\n",
       "      <td>1.0</td>\n",
       "      <td>False</td>\n",
       "      <td>12.0</td>\n",
       "      <td>10.45</td>\n",
       "      <td>21.25</td>\n",
       "      <td>0.0</td>\n",
       "      <td>0.735728</td>\n",
       "      <td>22.593500</td>\n",
       "      <td>0.988450</td>\n",
       "      <td>1.107501</td>\n",
       "      <td>0.016237</td>\n",
       "      <td>25.000000</td>\n",
       "      <td>2.095951</td>\n",
       "      <td>-2.095951</td>\n",
       "      <td>-0.008609</td>\n",
       "    </tr>\n",
       "    <tr>\n",
       "      <th>1</th>\n",
       "      <td>4.571125</td>\n",
       "      <td>1.0</td>\n",
       "      <td>True</td>\n",
       "      <td>12.0</td>\n",
       "      <td>10.45</td>\n",
       "      <td>21.25</td>\n",
       "      <td>125.4</td>\n",
       "      <td>0.735728</td>\n",
       "      <td>22.668311</td>\n",
       "      <td>1.043491</td>\n",
       "      <td>1.571021</td>\n",
       "      <td>0.023033</td>\n",
       "      <td>25.670204</td>\n",
       "      <td>2.614512</td>\n",
       "      <td>122.785488</td>\n",
       "      <td>0.504339</td>\n",
       "    </tr>\n",
       "    <tr>\n",
       "      <th>2</th>\n",
       "      <td>7.571125</td>\n",
       "      <td>1.0</td>\n",
       "      <td>True</td>\n",
       "      <td>12.0</td>\n",
       "      <td>10.45</td>\n",
       "      <td>21.25</td>\n",
       "      <td>125.4</td>\n",
       "      <td>0.735728</td>\n",
       "      <td>22.763237</td>\n",
       "      <td>1.113331</td>\n",
       "      <td>2.729631</td>\n",
       "      <td>0.040019</td>\n",
       "      <td>27.175595</td>\n",
       "      <td>3.842962</td>\n",
       "      <td>121.557038</td>\n",
       "      <td>0.499294</td>\n",
       "    </tr>\n",
       "    <tr>\n",
       "      <th>3</th>\n",
       "      <td>10.571125</td>\n",
       "      <td>1.0</td>\n",
       "      <td>True</td>\n",
       "      <td>12.0</td>\n",
       "      <td>10.45</td>\n",
       "      <td>21.25</td>\n",
       "      <td>125.4</td>\n",
       "      <td>0.735728</td>\n",
       "      <td>22.907084</td>\n",
       "      <td>1.219163</td>\n",
       "      <td>3.796758</td>\n",
       "      <td>0.055664</td>\n",
       "      <td>28.666194</td>\n",
       "      <td>5.015921</td>\n",
       "      <td>120.384079</td>\n",
       "      <td>0.494476</td>\n",
       "    </tr>\n",
       "    <tr>\n",
       "      <th>4</th>\n",
       "      <td>13.571125</td>\n",
       "      <td>1.0</td>\n",
       "      <td>True</td>\n",
       "      <td>12.0</td>\n",
       "      <td>10.45</td>\n",
       "      <td>21.25</td>\n",
       "      <td>125.4</td>\n",
       "      <td>0.735728</td>\n",
       "      <td>23.095981</td>\n",
       "      <td>1.358139</td>\n",
       "      <td>4.779197</td>\n",
       "      <td>0.070068</td>\n",
       "      <td>30.142661</td>\n",
       "      <td>6.137336</td>\n",
       "      <td>119.262664</td>\n",
       "      <td>0.489870</td>\n",
       "    </tr>\n",
       "    <tr>\n",
       "      <th>5</th>\n",
       "      <td>16.571125</td>\n",
       "      <td>1.0</td>\n",
       "      <td>True</td>\n",
       "      <td>12.0</td>\n",
       "      <td>10.45</td>\n",
       "      <td>21.25</td>\n",
       "      <td>125.4</td>\n",
       "      <td>0.735728</td>\n",
       "      <td>23.326341</td>\n",
       "      <td>1.527622</td>\n",
       "      <td>5.683240</td>\n",
       "      <td>0.083322</td>\n",
       "      <td>31.605608</td>\n",
       "      <td>7.210862</td>\n",
       "      <td>118.189138</td>\n",
       "      <td>0.485460</td>\n",
       "    </tr>\n",
       "    <tr>\n",
       "      <th>6</th>\n",
       "      <td>19.571125</td>\n",
       "      <td>1.0</td>\n",
       "      <td>True</td>\n",
       "      <td>12.0</td>\n",
       "      <td>10.45</td>\n",
       "      <td>21.25</td>\n",
       "      <td>125.4</td>\n",
       "      <td>0.735728</td>\n",
       "      <td>23.594848</td>\n",
       "      <td>1.725170</td>\n",
       "      <td>6.514716</td>\n",
       "      <td>0.095512</td>\n",
       "      <td>33.055604</td>\n",
       "      <td>8.239886</td>\n",
       "      <td>117.160114</td>\n",
       "      <td>0.481233</td>\n",
       "    </tr>\n",
       "  </tbody>\n",
       "</table>\n",
       "</div>"
      ],
      "text/plain": [
       "        time  der_time  in_heater_on  in_heater_voltage  in_heater_current  \\\n",
       "0  -0.000000       1.0         False               12.0              10.45   \n",
       "1   4.571125       1.0          True               12.0              10.45   \n",
       "2   7.571125       1.0          True               12.0              10.45   \n",
       "3  10.571125       1.0          True               12.0              10.45   \n",
       "4  13.571125       1.0          True               12.0              10.45   \n",
       "5  16.571125       1.0          True               12.0              10.45   \n",
       "6  19.571125       1.0          True               12.0              10.45   \n",
       "\n",
       "   in_room_temperature  power_in     G_box          T  power_out_box  \\\n",
       "0                21.25       0.0  0.735728  22.593500       0.988450   \n",
       "1                21.25     125.4  0.735728  22.668311       1.043491   \n",
       "2                21.25     125.4  0.735728  22.763237       1.113331   \n",
       "3                21.25     125.4  0.735728  22.907084       1.219163   \n",
       "4                21.25     125.4  0.735728  23.095981       1.358139   \n",
       "5                21.25     125.4  0.735728  23.326341       1.527622   \n",
       "6                21.25     125.4  0.735728  23.594848       1.725170   \n",
       "\n",
       "   total_power_box     der_T   T_heater  power_transfer_heat  \\\n",
       "0         1.107501  0.016237  25.000000             2.095951   \n",
       "1         1.571021  0.023033  25.670204             2.614512   \n",
       "2         2.729631  0.040019  27.175595             3.842962   \n",
       "3         3.796758  0.055664  28.666194             5.015921   \n",
       "4         4.779197  0.070068  30.142661             6.137336   \n",
       "5         5.683240  0.083322  31.605608             7.210862   \n",
       "6         6.514716  0.095512  33.055604             8.239886   \n",
       "\n",
       "   total_power_heater  der_T_heater  \n",
       "0           -2.095951     -0.008609  \n",
       "1          122.785488      0.504339  \n",
       "2          121.557038      0.499294  \n",
       "3          120.384079      0.494476  \n",
       "4          119.262664      0.489870  \n",
       "5          118.189138      0.485460  \n",
       "6          117.160114      0.481233  "
      ]
     },
     "execution_count": 46,
     "metadata": {},
     "output_type": "execute_result"
    }
   ],
   "source": [
    "dfs.loc[0:6,:]"
   ]
  },
  {
   "cell_type": "code",
   "execution_count": 47,
   "metadata": {},
   "outputs": [
    {
     "data": {
      "text/plain": [
       "14.999999999999998"
      ]
     },
     "execution_count": 47,
     "metadata": {},
     "output_type": "execute_result"
    }
   ],
   "source": [
    "list(dfs['time'])[6] - list(dfs['time'])[1]"
   ]
  },
  {
   "cell_type": "code",
   "execution_count": 48,
   "metadata": {},
   "outputs": [
    {
     "data": {
      "text/html": [
       "<div>\n",
       "<style scoped>\n",
       "    .dataframe tbody tr th:only-of-type {\n",
       "        vertical-align: middle;\n",
       "    }\n",
       "\n",
       "    .dataframe tbody tr th {\n",
       "        vertical-align: top;\n",
       "    }\n",
       "\n",
       "    .dataframe thead th {\n",
       "        text-align: right;\n",
       "    }\n",
       "</style>\n",
       "<table border=\"1\" class=\"dataframe\">\n",
       "  <thead>\n",
       "    <tr style=\"text-align: right;\">\n",
       "      <th></th>\n",
       "      <th>time</th>\n",
       "      <th>der_time</th>\n",
       "      <th>in_heater_on</th>\n",
       "      <th>in_heater_voltage</th>\n",
       "      <th>in_heater_current</th>\n",
       "      <th>in_room_temperature</th>\n",
       "      <th>power_in</th>\n",
       "      <th>G_box</th>\n",
       "      <th>T</th>\n",
       "      <th>power_out_box</th>\n",
       "      <th>total_power_box</th>\n",
       "      <th>der_T</th>\n",
       "      <th>T_heater</th>\n",
       "      <th>power_transfer_heat</th>\n",
       "      <th>total_power_heater</th>\n",
       "      <th>der_T_heater</th>\n",
       "    </tr>\n",
       "  </thead>\n",
       "  <tbody>\n",
       "    <tr>\n",
       "      <th>7</th>\n",
       "      <td>22.571125</td>\n",
       "      <td>1.0</td>\n",
       "      <td>True</td>\n",
       "      <td>12.0</td>\n",
       "      <td>10.45</td>\n",
       "      <td>21.25</td>\n",
       "      <td>125.4</td>\n",
       "      <td>0.735728</td>\n",
       "      <td>23.898429</td>\n",
       "      <td>1.948523</td>\n",
       "      <td>7.279018</td>\n",
       "      <td>0.106717</td>\n",
       "      <td>34.493177</td>\n",
       "      <td>9.227541</td>\n",
       "      <td>116.172459</td>\n",
       "      <td>0.477177</td>\n",
       "    </tr>\n",
       "    <tr>\n",
       "      <th>8</th>\n",
       "      <td>25.571125</td>\n",
       "      <td>1.0</td>\n",
       "      <td>False</td>\n",
       "      <td>12.0</td>\n",
       "      <td>10.45</td>\n",
       "      <td>21.25</td>\n",
       "      <td>0.0</td>\n",
       "      <td>0.735728</td>\n",
       "      <td>24.228705</td>\n",
       "      <td>2.191516</td>\n",
       "      <td>7.372829</td>\n",
       "      <td>0.108093</td>\n",
       "      <td>35.210160</td>\n",
       "      <td>9.564345</td>\n",
       "      <td>-9.564345</td>\n",
       "      <td>-0.039285</td>\n",
       "    </tr>\n",
       "    <tr>\n",
       "      <th>9</th>\n",
       "      <td>28.571125</td>\n",
       "      <td>1.0</td>\n",
       "      <td>False</td>\n",
       "      <td>12.0</td>\n",
       "      <td>10.45</td>\n",
       "      <td>21.25</td>\n",
       "      <td>0.0</td>\n",
       "      <td>0.735728</td>\n",
       "      <td>24.539615</td>\n",
       "      <td>2.420261</td>\n",
       "      <td>6.772666</td>\n",
       "      <td>0.099294</td>\n",
       "      <td>35.094620</td>\n",
       "      <td>9.192927</td>\n",
       "      <td>-9.192927</td>\n",
       "      <td>-0.037760</td>\n",
       "    </tr>\n",
       "    <tr>\n",
       "      <th>10</th>\n",
       "      <td>31.571125</td>\n",
       "      <td>1.0</td>\n",
       "      <td>False</td>\n",
       "      <td>12.0</td>\n",
       "      <td>10.45</td>\n",
       "      <td>21.25</td>\n",
       "      <td>0.0</td>\n",
       "      <td>0.735728</td>\n",
       "      <td>24.825123</td>\n",
       "      <td>2.630317</td>\n",
       "      <td>6.217160</td>\n",
       "      <td>0.091150</td>\n",
       "      <td>34.983494</td>\n",
       "      <td>8.847478</td>\n",
       "      <td>-8.847478</td>\n",
       "      <td>-0.036341</td>\n",
       "    </tr>\n",
       "    <tr>\n",
       "      <th>11</th>\n",
       "      <td>34.571125</td>\n",
       "      <td>1.0</td>\n",
       "      <td>False</td>\n",
       "      <td>12.0</td>\n",
       "      <td>10.45</td>\n",
       "      <td>21.25</td>\n",
       "      <td>0.0</td>\n",
       "      <td>0.735728</td>\n",
       "      <td>25.087119</td>\n",
       "      <td>2.823075</td>\n",
       "      <td>5.703007</td>\n",
       "      <td>0.083612</td>\n",
       "      <td>34.876476</td>\n",
       "      <td>8.526083</td>\n",
       "      <td>-8.526083</td>\n",
       "      <td>-0.035021</td>\n",
       "    </tr>\n",
       "    <tr>\n",
       "      <th>12</th>\n",
       "      <td>37.571125</td>\n",
       "      <td>1.0</td>\n",
       "      <td>False</td>\n",
       "      <td>12.0</td>\n",
       "      <td>10.45</td>\n",
       "      <td>21.25</td>\n",
       "      <td>0.0</td>\n",
       "      <td>0.735728</td>\n",
       "      <td>25.327354</td>\n",
       "      <td>2.999823</td>\n",
       "      <td>5.227146</td>\n",
       "      <td>0.076635</td>\n",
       "      <td>34.773278</td>\n",
       "      <td>8.226969</td>\n",
       "      <td>-8.226969</td>\n",
       "      <td>-0.033792</td>\n",
       "    </tr>\n",
       "    <tr>\n",
       "      <th>13</th>\n",
       "      <td>40.571125</td>\n",
       "      <td>1.0</td>\n",
       "      <td>False</td>\n",
       "      <td>12.0</td>\n",
       "      <td>10.45</td>\n",
       "      <td>21.25</td>\n",
       "      <td>0.0</td>\n",
       "      <td>0.735728</td>\n",
       "      <td>25.547449</td>\n",
       "      <td>3.161753</td>\n",
       "      <td>4.786741</td>\n",
       "      <td>0.070178</td>\n",
       "      <td>34.673638</td>\n",
       "      <td>7.948494</td>\n",
       "      <td>-7.948494</td>\n",
       "      <td>-0.032648</td>\n",
       "    </tr>\n",
       "    <tr>\n",
       "      <th>14</th>\n",
       "      <td>43.571125</td>\n",
       "      <td>1.0</td>\n",
       "      <td>False</td>\n",
       "      <td>12.0</td>\n",
       "      <td>10.45</td>\n",
       "      <td>21.25</td>\n",
       "      <td>0.0</td>\n",
       "      <td>0.735728</td>\n",
       "      <td>25.748905</td>\n",
       "      <td>3.309970</td>\n",
       "      <td>4.379168</td>\n",
       "      <td>0.064203</td>\n",
       "      <td>34.577310</td>\n",
       "      <td>7.689137</td>\n",
       "      <td>-7.689137</td>\n",
       "      <td>-0.031583</td>\n",
       "    </tr>\n",
       "    <tr>\n",
       "      <th>15</th>\n",
       "      <td>46.571125</td>\n",
       "      <td>1.0</td>\n",
       "      <td>False</td>\n",
       "      <td>12.0</td>\n",
       "      <td>10.45</td>\n",
       "      <td>21.25</td>\n",
       "      <td>0.0</td>\n",
       "      <td>0.735728</td>\n",
       "      <td>25.933111</td>\n",
       "      <td>3.445496</td>\n",
       "      <td>4.001996</td>\n",
       "      <td>0.058673</td>\n",
       "      <td>34.484067</td>\n",
       "      <td>7.447492</td>\n",
       "      <td>-7.447492</td>\n",
       "      <td>-0.030590</td>\n",
       "    </tr>\n",
       "    <tr>\n",
       "      <th>16</th>\n",
       "      <td>49.571125</td>\n",
       "      <td>1.0</td>\n",
       "      <td>False</td>\n",
       "      <td>12.0</td>\n",
       "      <td>10.45</td>\n",
       "      <td>21.25</td>\n",
       "      <td>0.0</td>\n",
       "      <td>0.735728</td>\n",
       "      <td>26.101356</td>\n",
       "      <td>3.569278</td>\n",
       "      <td>3.652974</td>\n",
       "      <td>0.053556</td>\n",
       "      <td>34.393700</td>\n",
       "      <td>7.222252</td>\n",
       "      <td>-7.222252</td>\n",
       "      <td>-0.029665</td>\n",
       "    </tr>\n",
       "  </tbody>\n",
       "</table>\n",
       "</div>"
      ],
      "text/plain": [
       "         time  der_time  in_heater_on  in_heater_voltage  in_heater_current  \\\n",
       "7   22.571125       1.0          True               12.0              10.45   \n",
       "8   25.571125       1.0         False               12.0              10.45   \n",
       "9   28.571125       1.0         False               12.0              10.45   \n",
       "10  31.571125       1.0         False               12.0              10.45   \n",
       "11  34.571125       1.0         False               12.0              10.45   \n",
       "12  37.571125       1.0         False               12.0              10.45   \n",
       "13  40.571125       1.0         False               12.0              10.45   \n",
       "14  43.571125       1.0         False               12.0              10.45   \n",
       "15  46.571125       1.0         False               12.0              10.45   \n",
       "16  49.571125       1.0         False               12.0              10.45   \n",
       "\n",
       "    in_room_temperature  power_in     G_box          T  power_out_box  \\\n",
       "7                 21.25     125.4  0.735728  23.898429       1.948523   \n",
       "8                 21.25       0.0  0.735728  24.228705       2.191516   \n",
       "9                 21.25       0.0  0.735728  24.539615       2.420261   \n",
       "10                21.25       0.0  0.735728  24.825123       2.630317   \n",
       "11                21.25       0.0  0.735728  25.087119       2.823075   \n",
       "12                21.25       0.0  0.735728  25.327354       2.999823   \n",
       "13                21.25       0.0  0.735728  25.547449       3.161753   \n",
       "14                21.25       0.0  0.735728  25.748905       3.309970   \n",
       "15                21.25       0.0  0.735728  25.933111       3.445496   \n",
       "16                21.25       0.0  0.735728  26.101356       3.569278   \n",
       "\n",
       "    total_power_box     der_T   T_heater  power_transfer_heat  \\\n",
       "7          7.279018  0.106717  34.493177             9.227541   \n",
       "8          7.372829  0.108093  35.210160             9.564345   \n",
       "9          6.772666  0.099294  35.094620             9.192927   \n",
       "10         6.217160  0.091150  34.983494             8.847478   \n",
       "11         5.703007  0.083612  34.876476             8.526083   \n",
       "12         5.227146  0.076635  34.773278             8.226969   \n",
       "13         4.786741  0.070178  34.673638             7.948494   \n",
       "14         4.379168  0.064203  34.577310             7.689137   \n",
       "15         4.001996  0.058673  34.484067             7.447492   \n",
       "16         3.652974  0.053556  34.393700             7.222252   \n",
       "\n",
       "    total_power_heater  der_T_heater  \n",
       "7           116.172459      0.477177  \n",
       "8            -9.564345     -0.039285  \n",
       "9            -9.192927     -0.037760  \n",
       "10           -8.847478     -0.036341  \n",
       "11           -8.526083     -0.035021  \n",
       "12           -8.226969     -0.033792  \n",
       "13           -7.948494     -0.032648  \n",
       "14           -7.689137     -0.031583  \n",
       "15           -7.447492     -0.030590  \n",
       "16           -7.222252     -0.029665  "
      ]
     },
     "execution_count": 48,
     "metadata": {},
     "output_type": "execute_result"
    }
   ],
   "source": [
    "dfs.loc[7:16,:]"
   ]
  },
  {
   "cell_type": "code",
   "execution_count": 49,
   "metadata": {},
   "outputs": [
    {
     "data": {
      "text/plain": [
       "26.999999999999982"
      ]
     },
     "execution_count": 49,
     "metadata": {},
     "output_type": "execute_result"
    }
   ],
   "source": [
    "list(dfs['time'])[16] - list(dfs['time'])[7]"
   ]
  },
  {
   "cell_type": "code",
   "execution_count": 50,
   "metadata": {},
   "outputs": [
    {
     "data": {
      "text/html": [
       "<div>\n",
       "<style scoped>\n",
       "    .dataframe tbody tr th:only-of-type {\n",
       "        vertical-align: middle;\n",
       "    }\n",
       "\n",
       "    .dataframe tbody tr th {\n",
       "        vertical-align: top;\n",
       "    }\n",
       "\n",
       "    .dataframe thead th {\n",
       "        text-align: right;\n",
       "    }\n",
       "</style>\n",
       "<table border=\"1\" class=\"dataframe\">\n",
       "  <thead>\n",
       "    <tr style=\"text-align: right;\">\n",
       "      <th></th>\n",
       "      <th>time</th>\n",
       "      <th>der_time</th>\n",
       "      <th>in_heater_on</th>\n",
       "      <th>in_heater_voltage</th>\n",
       "      <th>in_heater_current</th>\n",
       "      <th>in_room_temperature</th>\n",
       "      <th>power_in</th>\n",
       "      <th>G_box</th>\n",
       "      <th>T</th>\n",
       "      <th>power_out_box</th>\n",
       "      <th>total_power_box</th>\n",
       "      <th>der_T</th>\n",
       "      <th>T_heater</th>\n",
       "      <th>power_transfer_heat</th>\n",
       "      <th>total_power_heater</th>\n",
       "      <th>der_T_heater</th>\n",
       "    </tr>\n",
       "  </thead>\n",
       "  <tbody>\n",
       "    <tr>\n",
       "      <th>17</th>\n",
       "      <td>52.571125</td>\n",
       "      <td>1.0</td>\n",
       "      <td>False</td>\n",
       "      <td>12.0</td>\n",
       "      <td>10.45</td>\n",
       "      <td>21.25</td>\n",
       "      <td>0.0</td>\n",
       "      <td>0.735728</td>\n",
       "      <td>26.254831</td>\n",
       "      <td>3.682193</td>\n",
       "      <td>3.330019</td>\n",
       "      <td>0.048821</td>\n",
       "      <td>34.306013</td>\n",
       "      <td>7.012212</td>\n",
       "      <td>-7.012212</td>\n",
       "      <td>-0.028803</td>\n",
       "    </tr>\n",
       "    <tr>\n",
       "      <th>18</th>\n",
       "      <td>55.571125</td>\n",
       "      <td>1.0</td>\n",
       "      <td>False</td>\n",
       "      <td>12.0</td>\n",
       "      <td>10.45</td>\n",
       "      <td>21.25</td>\n",
       "      <td>0.0</td>\n",
       "      <td>0.735728</td>\n",
       "      <td>26.394638</td>\n",
       "      <td>3.785054</td>\n",
       "      <td>3.031199</td>\n",
       "      <td>0.044440</td>\n",
       "      <td>34.220827</td>\n",
       "      <td>6.816253</td>\n",
       "      <td>-6.816253</td>\n",
       "      <td>-0.027998</td>\n",
       "    </tr>\n",
       "    <tr>\n",
       "      <th>19</th>\n",
       "      <td>58.571125</td>\n",
       "      <td>1.0</td>\n",
       "      <td>True</td>\n",
       "      <td>12.0</td>\n",
       "      <td>10.45</td>\n",
       "      <td>21.25</td>\n",
       "      <td>125.4</td>\n",
       "      <td>0.735728</td>\n",
       "      <td>26.527337</td>\n",
       "      <td>3.882684</td>\n",
       "      <td>3.363044</td>\n",
       "      <td>0.049305</td>\n",
       "      <td>34.846635</td>\n",
       "      <td>7.245728</td>\n",
       "      <td>118.154272</td>\n",
       "      <td>0.485317</td>\n",
       "    </tr>\n",
       "    <tr>\n",
       "      <th>20</th>\n",
       "      <td>61.571125</td>\n",
       "      <td>1.0</td>\n",
       "      <td>True</td>\n",
       "      <td>12.0</td>\n",
       "      <td>10.45</td>\n",
       "      <td>21.25</td>\n",
       "      <td>125.4</td>\n",
       "      <td>0.735728</td>\n",
       "      <td>26.697302</td>\n",
       "      <td>4.007732</td>\n",
       "      <td>4.352007</td>\n",
       "      <td>0.063805</td>\n",
       "      <td>36.295670</td>\n",
       "      <td>8.359740</td>\n",
       "      <td>117.040260</td>\n",
       "      <td>0.480741</td>\n",
       "    </tr>\n",
       "    <tr>\n",
       "      <th>21</th>\n",
       "      <td>64.571125</td>\n",
       "      <td>1.0</td>\n",
       "      <td>True</td>\n",
       "      <td>12.0</td>\n",
       "      <td>10.45</td>\n",
       "      <td>21.25</td>\n",
       "      <td>125.4</td>\n",
       "      <td>0.735728</td>\n",
       "      <td>26.909011</td>\n",
       "      <td>4.163492</td>\n",
       "      <td>5.262208</td>\n",
       "      <td>0.077149</td>\n",
       "      <td>37.731278</td>\n",
       "      <td>9.425700</td>\n",
       "      <td>115.974300</td>\n",
       "      <td>0.476363</td>\n",
       "    </tr>\n",
       "    <tr>\n",
       "      <th>22</th>\n",
       "      <td>67.571125</td>\n",
       "      <td>1.0</td>\n",
       "      <td>True</td>\n",
       "      <td>12.0</td>\n",
       "      <td>10.45</td>\n",
       "      <td>21.25</td>\n",
       "      <td>125.4</td>\n",
       "      <td>0.735728</td>\n",
       "      <td>27.159128</td>\n",
       "      <td>4.347510</td>\n",
       "      <td>6.099500</td>\n",
       "      <td>0.089425</td>\n",
       "      <td>39.154029</td>\n",
       "      <td>10.447011</td>\n",
       "      <td>114.952989</td>\n",
       "      <td>0.472168</td>\n",
       "    </tr>\n",
       "    <tr>\n",
       "      <th>23</th>\n",
       "      <td>70.571125</td>\n",
       "      <td>1.0</td>\n",
       "      <td>True</td>\n",
       "      <td>12.0</td>\n",
       "      <td>10.45</td>\n",
       "      <td>21.25</td>\n",
       "      <td>125.4</td>\n",
       "      <td>0.735728</td>\n",
       "      <td>27.444569</td>\n",
       "      <td>4.557517</td>\n",
       "      <td>6.869303</td>\n",
       "      <td>0.100711</td>\n",
       "      <td>40.564454</td>\n",
       "      <td>11.426820</td>\n",
       "      <td>113.973180</td>\n",
       "      <td>0.468143</td>\n",
       "    </tr>\n",
       "  </tbody>\n",
       "</table>\n",
       "</div>"
      ],
      "text/plain": [
       "         time  der_time  in_heater_on  in_heater_voltage  in_heater_current  \\\n",
       "17  52.571125       1.0         False               12.0              10.45   \n",
       "18  55.571125       1.0         False               12.0              10.45   \n",
       "19  58.571125       1.0          True               12.0              10.45   \n",
       "20  61.571125       1.0          True               12.0              10.45   \n",
       "21  64.571125       1.0          True               12.0              10.45   \n",
       "22  67.571125       1.0          True               12.0              10.45   \n",
       "23  70.571125       1.0          True               12.0              10.45   \n",
       "\n",
       "    in_room_temperature  power_in     G_box          T  power_out_box  \\\n",
       "17                21.25       0.0  0.735728  26.254831       3.682193   \n",
       "18                21.25       0.0  0.735728  26.394638       3.785054   \n",
       "19                21.25     125.4  0.735728  26.527337       3.882684   \n",
       "20                21.25     125.4  0.735728  26.697302       4.007732   \n",
       "21                21.25     125.4  0.735728  26.909011       4.163492   \n",
       "22                21.25     125.4  0.735728  27.159128       4.347510   \n",
       "23                21.25     125.4  0.735728  27.444569       4.557517   \n",
       "\n",
       "    total_power_box     der_T   T_heater  power_transfer_heat  \\\n",
       "17         3.330019  0.048821  34.306013             7.012212   \n",
       "18         3.031199  0.044440  34.220827             6.816253   \n",
       "19         3.363044  0.049305  34.846635             7.245728   \n",
       "20         4.352007  0.063805  36.295670             8.359740   \n",
       "21         5.262208  0.077149  37.731278             9.425700   \n",
       "22         6.099500  0.089425  39.154029            10.447011   \n",
       "23         6.869303  0.100711  40.564454            11.426820   \n",
       "\n",
       "    total_power_heater  der_T_heater  \n",
       "17           -7.012212     -0.028803  \n",
       "18           -6.816253     -0.027998  \n",
       "19          118.154272      0.485317  \n",
       "20          117.040260      0.480741  \n",
       "21          115.974300      0.476363  \n",
       "22          114.952989      0.472168  \n",
       "23          113.973180      0.468143  "
      ]
     },
     "execution_count": 50,
     "metadata": {},
     "output_type": "execute_result"
    }
   ],
   "source": [
    "dfs.loc[17:23,:]"
   ]
  },
  {
   "cell_type": "code",
   "execution_count": 51,
   "metadata": {},
   "outputs": [
    {
     "data": {
      "text/plain": [
       "17.999999999999986"
      ]
     },
     "execution_count": 51,
     "metadata": {},
     "output_type": "execute_result"
    }
   ],
   "source": [
    "list(dfs['time'])[23] - list(dfs['time'])[17]"
   ]
  },
  {
   "cell_type": "code",
   "execution_count": 52,
   "metadata": {},
   "outputs": [
    {
     "data": {
      "text/plain": [
       "-0.0"
      ]
     },
     "execution_count": 52,
     "metadata": {},
     "output_type": "execute_result"
    }
   ],
   "source": [
    "list(dfs['time'])[0]"
   ]
  },
  {
   "cell_type": "code",
   "execution_count": 53,
   "metadata": {},
   "outputs": [
    {
     "data": {
      "text/plain": [
       "<AxesSubplot:xlabel='time'>"
      ]
     },
     "execution_count": 53,
     "metadata": {},
     "output_type": "execute_result"
    },
    {
     "data": {
      "image/png": "[encoded data removed]",
      "text/plain": [
       "<Figure size 432x288 with 1 Axes>"
      ]
     },
     "metadata": {
      "needs_background": "light"
     },
     "output_type": "display_data"
    }
   ],
   "source": [
    "df.plot('time', 'average_temperature')"
   ]
  },
  {
   "cell_type": "code",
   "execution_count": 54,
   "metadata": {},
   "outputs": [
    {
     "data": {
      "text/plain": [
       "<AxesSubplot:xlabel='time'>"
      ]
     },
     "execution_count": 54,
     "metadata": {},
     "output_type": "execute_result"
    },
    {
     "data": {
      "image/png": "[encoded data removed]",
      "text/plain": [
       "<Figure size 432x288 with 1 Axes>"
      ]
     },
     "metadata": {
      "needs_background": "light"
     },
     "output_type": "display_data"
    }
   ],
   "source": [
    "dfs.plot('time', 'T')"
   ]
  },
  {
   "cell_type": "code",
   "execution_count": 55,
   "metadata": {},
   "outputs": [
    {
     "data": {
      "image/png": "[encoded data removed]",
      "text/plain": [
       "Graphics object consisting of 1 graphics primitive"
      ]
     },
     "execution_count": 55,
     "metadata": {},
     "output_type": "execute_result"
    }
   ],
   "source": [
    "g2 = points(zip(df.loc[:,'time'], df.loc[:,'average_temperature']), color='orange'); g2"
   ]
  },
  {
   "cell_type": "code",
   "execution_count": 56,
   "metadata": {},
   "outputs": [
    {
     "data": {
      "image/png": "[encoded data removed]",
      "text/plain": [
       "Graphics object consisting of 1 graphics primitive"
      ]
     },
     "execution_count": 56,
     "metadata": {},
     "output_type": "execute_result"
    }
   ],
   "source": [
    "g3 = points(zip(dfs.loc[:,'time'], dfs.loc[:,'T']), color='orange'); g3"
   ]
  },
  {
   "cell_type": "code",
   "execution_count": 57,
   "metadata": {},
   "outputs": [
    {
     "data": {
      "image/png": "[encoded data removed]",
      "text/plain": [
       "Graphics object consisting of 1 graphics primitive"
      ]
     },
     "execution_count": 57,
     "metadata": {},
     "output_type": "execute_result"
    }
   ],
   "source": [
    "g4 = points(zip(dfs.loc[:,'time'], dfs.loc[:,'T_heater']), color='red'); g4"
   ]
  },
  {
   "cell_type": "code",
   "execution_count": 58,
   "metadata": {},
   "outputs": [
    {
     "data": {
      "image/png": "[encoded data removed]",
      "text/plain": [
       "Graphics object consisting of 1 graphics primitive"
      ]
     },
     "execution_count": 58,
     "metadata": {},
     "output_type": "execute_result"
    }
   ],
   "source": [
    "g5 = points(zip(dfs.loc[:50,'time'], dfs.loc[:50,'in_heater_on']), color='black'); g5"
   ]
  },
  {
   "cell_type": "code",
   "execution_count": 59,
   "metadata": {},
   "outputs": [
    {
     "data": {
      "image/png": "[encoded data removed]",
      "text/plain": [
       "Graphics object consisting of 2397 graphics primitives"
      ]
     },
     "execution_count": 59,
     "metadata": {},
     "output_type": "execute_result"
    }
   ],
   "source": [
    "g1 + g2"
   ]
  },
  {
   "cell_type": "code",
   "execution_count": 60,
   "metadata": {},
   "outputs": [
    {
     "data": {
      "image/png": "[encoded data removed]",
      "text/plain": [
       "Graphics object consisting of 2398 graphics primitives"
      ]
     },
     "execution_count": 60,
     "metadata": {},
     "output_type": "execute_result"
    }
   ],
   "source": [
    "g1 + g3 + g4"
   ]
  },
  {
   "cell_type": "markdown",
   "metadata": {},
   "source": [
    "## Next Steps:\n",
    "\n",
    " 1. STL monitoring over a sequence of separate reach sets\n",
    " 2. Generating a sequence of separate reach sets from an existing dataset of switches\n",
    " 3. Generating a sequence of reach sets based on as controller and a fixed time step\n",
    " \n",
    "Initial focus should be on 2 and 3 in order to make it possible to test 1\n",
    " \n",
    "We should have a version of the class for each of the the different parametric models and use mixins to define the control flow based either on the specific stepping data or on a given controller model. We do need to compute the next control control wait: this information should also be conveyed by the control step function.\n",
    "\n",
    "*An important change:* Should the next time should be a floating point number or a real? Otherwise we have real problems with non-deterministic control decisions."
   ]
  },
  {
   "cell_type": "markdown",
   "metadata": {},
   "source": [
    "How tightly coupled should we be to the underlying dynamics?"
   ]
  },
  {
   "cell_type": "markdown",
   "metadata": {},
   "source": [
    "## 7 Parameter Model"
   ]
  },
  {
   "cell_type": "code",
   "execution_count": 61,
   "metadata": {},
   "outputs": [
    {
     "data": {
      "text/html": [
       "<div class=\"notruncate\">\n",
       "<table  class=\"table_form\">\n",
       "<tbody>\n",
       "<tr class =\"row-a\">\n",
       "<td style=\"text-align:left\">\\(\\frac{\\partial}{\\partial t}T_{H}\\left(t\\right) = \\frac{I V + G_{H} {\\left(T_{A}\\left(t\\right) - T_{H}\\left(t\\right)\\right)}}{C_{H}}\\)</td>\n",
       "</tr>\n",
       "<tr class =\"row-b\">\n",
       "<td style=\"text-align:left\">\\(\\frac{\\partial}{\\partial t}T_{A}\\left(t\\right) = \\frac{G_{B} {\\left(T_{R} - T_{A}\\left(t\\right)\\right)} - G_{F} {\\left(T_{A}\\left(t\\right) - T_{F}\\left(t\\right)\\right)} - G_{H} {\\left(T_{A}\\left(t\\right) - T_{H}\\left(t\\right)\\right)}}{C_{A}}\\)</td>\n",
       "</tr>\n",
       "<tr class =\"row-a\">\n",
       "<td style=\"text-align:left\">\\(\\frac{\\partial}{\\partial t}T_{F}\\left(t\\right) = -\\frac{G_{F} {\\left(T_{A}\\left(t\\right) - T_{F}\\left(t\\right)\\right)}}{C_{F}}\\)</td>\n",
       "</tr>\n",
       "</tbody>\n",
       "</table>\n",
       "</div>"
      ],
      "text/plain": [
       "  diff(T_H(t), t) == (I*V + G_H*(T_A(t) - T_H(t)))/C_H\n",
       "  diff(T_A(t), t) == (G_B*(T_R - T_A(t)) - G_F*(T_A(t) - T_F(t)) - G_H*(T_A(t) - T_H(t)))/C_A\n",
       "  diff(T_F(t), t) == -G_F*(T_A(t) - T_F(t))/C_F"
      ]
     },
     "execution_count": 61,
     "metadata": {},
     "output_type": "execute_result"
    }
   ],
   "source": [
    "sevenpincubator.ode_table"
   ]
  },
  {
   "cell_type": "code",
   "execution_count": 62,
   "metadata": {},
   "outputs": [],
   "source": [
    "r = sevenpincubator.reach(100)"
   ]
  },
  {
   "cell_type": "code",
   "execution_count": null,
   "metadata": {},
   "outputs": [
    {
     "name": "stdout",
     "output_type": "stream",
     "text": [
      "plot_points = 10000\n",
      "plot_points = 10000\n",
      "plot_points = 10000\n"
     ]
    }
   ],
   "source": [
    "  r.sage_plot(T_A, color='blue', fillcolor='blue', linestyle=\"--\", fill={0: [1]})\\\n",
    "+ r.sage_plot(T_H, color='green', fillcolor='green', linestyle=\"--\", fill={0: [1]})\\\n",
    "+ r.sage_plot(T_F, color='red', fillcolor='red', linestyle=\"--\", fill={0: [1]})"
   ]
  }
 ],
 "metadata": {
  "kernelspec": {
   "display_name": "SageMath 9.4",
   "language": "sage",
   "name": "sagemath"
  },
  "language_info": {
   "codemirror_mode": {
    "name": "ipython",
    "version": 3
   },
   "file_extension": ".py",
   "mimetype": "text/x-python",
   "name": "python",
   "nbconvert_exporter": "python",
   "pygments_lexer": "ipython3",
   "version": "3.9.5"
  }
 },
 "nbformat": 4,
 "nbformat_minor": 4
}
