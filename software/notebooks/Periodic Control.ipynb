{
 "cells": [
  {
   "cell_type": "code",
   "execution_count": 1,
   "metadata": {
    "vscode": {
     "languageId": "python"
    }
   },
   "outputs": [],
   "source": [
    "import os\n",
    "os.chdir(\"../\")"
   ]
  },
  {
   "cell_type": "code",
   "execution_count": 2,
   "metadata": {
    "vscode": {
     "languageId": "python"
    }
   },
   "outputs": [
    {
     "name": "stdout",
     "output_type": "stream",
     "text": [
      "/workspaces/example_digital-twin_incubator_twright/software\n"
     ]
    }
   ],
   "source": [
    "!pwd"
   ]
  },
  {
   "cell_type": "markdown",
   "metadata": {
    "tags": []
   },
   "source": [
    "# Incubator Case Study"
   ]
  },
  {
   "cell_type": "code",
   "execution_count": 3,
   "metadata": {
    "vscode": {
     "languageId": "python"
    }
   },
   "outputs": [],
   "source": [
    "from verified_twin.lbuc import *\n",
    "\n",
    "from sage.symbolic.function_factory import function_factory\n",
    "\n",
    "from verified_twin.base import *\n",
    "from verified_twin.parametric_models import ParametricModel\n",
    "from verified_twin.incubator_models import SwitchingFourParameterModel\n",
    "from verified_twin.controllers import BasicController, TrivialController, SignalSwitchedController\n",
    "from verified_twin.simulators import VerifiedContinuousSimulator, DiscreteSimulator, HybridSimulator"
   ]
  },
  {
   "cell_type": "code",
   "execution_count": 4,
   "metadata": {
    "vscode": {
     "languageId": "python"
    }
   },
   "outputs": [
    {
     "data": {
      "text/plain": [
       "(t, T_S, T_H, T_A, T_F, C_S, C_H, C_A, C_F, I, T_R, G_S, G_H, G_B, G_F, V)"
      ]
     },
     "execution_count": 4,
     "metadata": {},
     "output_type": "execute_result"
    }
   ],
   "source": [
    "var(\"t, T_S, T_H, T_A, T_F, C_S, C_H, C_A, C_F, I, T_R, G_S, G_H, G_B, G_F, V\")"
   ]
  },
  {
   "cell_type": "code",
   "execution_count": 5,
   "metadata": {
    "tags": [],
    "vscode": {
     "languageId": "python"
    }
   },
   "outputs": [],
   "source": [
    "intervalfourpm = SwitchingFourParameterModel([RIF(\"0\"), RIF('25'), RIF('[20.5935,21.5935]')])"
   ]
  },
  {
   "cell_type": "code",
   "execution_count": 6,
   "metadata": {
    "vscode": {
     "languageId": "python"
    }
   },
   "outputs": [],
   "source": [
    "fourpm = SwitchingFourParameterModel([RIF(\"0\"), RIF('25'), RIF('22.5935')])"
   ]
  },
  {
   "cell_type": "markdown",
   "metadata": {
    "tags": []
   },
   "source": [
    "### Periodic Open Loop Controller"
   ]
  },
  {
   "cell_type": "code",
   "execution_count": 7,
   "metadata": {
    "vscode": {
     "languageId": "python"
    }
   },
   "outputs": [],
   "source": [
    "from verified_twin.controllers import PeriodicOpenLoopController"
   ]
  },
  {
   "cell_type": "code",
   "execution_count": 8,
   "metadata": {
    "vscode": {
     "languageId": "python"
    }
   },
   "outputs": [],
   "source": [
    "fspm = HybridSimulator(\n",
    "    intervalfourpm,\n",
    "    PeriodicOpenLoopController(3.0, 15, 5),\n",
    "    controller_input_map=(lambda x: x[0]),\n",
    "    controller_output_map=(lambda xin, x: xin),\n",
    ")"
   ]
  },
  {
   "cell_type": "code",
   "execution_count": 9,
   "metadata": {
    "vscode": {
     "languageId": "python"
    }
   },
   "outputs": [],
   "source": [
    "rs = fspm.run(time_limit=RIF(200))"
   ]
  },
  {
   "cell_type": "code",
   "execution_count": 10,
   "metadata": {
    "vscode": {
     "languageId": "python"
    }
   },
   "outputs": [
    {
     "data": {
      "text/plain": [
       "[{'heater_on': False,\n",
       "  'current_state': <OpenLoopState.HEATING: 2>,\n",
       "  'first': False},\n",
       " {'heater_on': False,\n",
       "  'current_state': <OpenLoopState.COOLING: 3>,\n",
       "  'first': False},\n",
       " <flowstar.reachability.Reach object at 0x7efce006e4c0>,\n",
       " {'heater_on': True,\n",
       "  'current_state': <OpenLoopState.HEATING: 2>,\n",
       "  'first': False},\n",
       " <flowstar.reachability.Reach object at 0x7efce006e5e0>,\n",
       " {'heater_on': False,\n",
       "  'current_state': <OpenLoopState.COOLING: 3>,\n",
       "  'first': False},\n",
       " <flowstar.reachability.Reach object at 0x7efce006e700>,\n",
       " {'heater_on': True,\n",
       "  'current_state': <OpenLoopState.HEATING: 2>,\n",
       "  'first': False},\n",
       " <flowstar.reachability.Reach object at 0x7efce006e820>,\n",
       " {'heater_on': False,\n",
       "  'current_state': <OpenLoopState.COOLING: 3>,\n",
       "  'first': False},\n",
       " <flowstar.reachability.Reach object at 0x7efce006e940>,\n",
       " {'heater_on': True,\n",
       "  'current_state': <OpenLoopState.HEATING: 2>,\n",
       "  'first': False},\n",
       " <flowstar.reachability.Reach object at 0x7efce006ea60>,\n",
       " {'heater_on': False,\n",
       "  'current_state': <OpenLoopState.COOLING: 3>,\n",
       "  'first': False},\n",
       " <flowstar.reachability.Reach object at 0x7efce006eb80>,\n",
       " {'heater_on': True,\n",
       "  'current_state': <OpenLoopState.HEATING: 2>,\n",
       "  'first': False},\n",
       " <flowstar.reachability.Reach object at 0x7efce006eca0>,\n",
       " {'heater_on': False,\n",
       "  'current_state': <OpenLoopState.COOLING: 3>,\n",
       "  'first': False},\n",
       " <flowstar.reachability.Reach object at 0x7efce006edc0>]"
      ]
     },
     "execution_count": 10,
     "metadata": {},
     "output_type": "execute_result"
    }
   ],
   "source": [
    "rs.values"
   ]
  },
  {
   "cell_type": "code",
   "execution_count": 11,
   "metadata": {
    "vscode": {
     "languageId": "python"
    }
   },
   "outputs": [
    {
     "data": {
      "image/png": "[encoded data removed]",
      "text/plain": [
       "Graphics object consisting of 1564 graphics primitives"
      ]
     },
     "execution_count": 11,
     "metadata": {},
     "output_type": "execute_result"
    }
   ],
   "source": [
    "rs.plot(('T_A', 'T_H'), color=('blue', 'green'))"
   ]
  },
  {
   "cell_type": "code",
   "execution_count": null,
   "metadata": {
    "vscode": {
     "languageId": "python"
    }
   },
   "outputs": [],
   "source": []
  }
 ],
 "metadata": {
  "interpreter": {
   "hash": "f1f114bcc5a392dd6af24d4b130fc1284ccb9de1265232eadd371e96408ddc37"
  },
  "kernelspec": {
   "display_name": "SageMath 9.4",
   "language": "sage",
   "name": "sagemath"
  },
  "language_info": {
   "codemirror_mode": {
    "name": "ipython",
    "version": 3
   },
   "file_extension": ".py",
   "mimetype": "text/x-python",
   "name": "sage",
   "nbconvert_exporter": "python",
   "pygments_lexer": "ipython3",
   "version": "3.9.5"
  }
 },
 "nbformat": 4,
 "nbformat_minor": 4
}
